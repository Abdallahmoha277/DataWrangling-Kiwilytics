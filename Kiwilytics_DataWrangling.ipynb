{
  "nbformat": 4,
  "nbformat_minor": 0,
  "metadata": {
    "colab": {
      "provenance": [],
      "authorship_tag": "ABX9TyOl2PY526CwiEJDWua/zBQf",
      "include_colab_link": true
    },
    "kernelspec": {
      "name": "python3",
      "display_name": "Python 3"
    },
    "language_info": {
      "name": "python"
    }
  },
  "cells": [
    {
      "cell_type": "markdown",
      "metadata": {
        "id": "view-in-github",
        "colab_type": "text"
      },
      "source": [
        "<a href=\"https://colab.research.google.com/github/Abdallahmoha277/DataWrangling-Kiwilytics/blob/main/Kiwilytics_DataWrangling.ipynb\" target=\"_parent\"><img src=\"https://colab.research.google.com/assets/colab-badge.svg\" alt=\"Open In Colab\"/></a>"
      ]
    },
    {
      "cell_type": "code",
      "source": [
        "import numpy as np\n",
        "b = np.array([[1, 2, 3, 4, 5],[6, 7, 8, 9, 10],[11, 12, 13, 14, 15],[16, 17, 18, 19, 20],[21, 22, 23, 24, 25]])\n",
        "print(b)\n",
        "\n",
        "\n",
        "c=b[2:4,0:2]\n",
        "print(\"\\n\\n\",c)"
      ],
      "metadata": {
        "colab": {
          "base_uri": "https://localhost:8080/"
        },
        "id": "ktZ9xzKiGCEf",
        "outputId": "155e5ba9-f4ef-48a0-e0a7-be2659b4c64b"
      },
      "execution_count": 4,
      "outputs": [
        {
          "output_type": "stream",
          "name": "stdout",
          "text": [
            "[[ 1  2  3  4  5]\n",
            " [ 6  7  8  9 10]\n",
            " [11 12 13 14 15]\n",
            " [16 17 18 19 20]\n",
            " [21 22 23 24 25]]\n",
            "\n",
            "\n",
            " [[11 12]\n",
            " [16 17]]\n"
          ]
        }
      ]
    },
    {
      "cell_type": "markdown",
      "source": [
        "# New Section"
      ],
      "metadata": {
        "id": "pw-d6e8IKBMy"
      }
    },
    {
      "cell_type": "code",
      "source": [
        "import pandas as pd\n",
        "\n",
        "monthly_Revenue = pd.Series([3000,5000,4500,np.nan,6000], name = 'Revenue')\n",
        "print(monthly_Revenue)"
      ],
      "metadata": {
        "colab": {
          "base_uri": "https://localhost:8080/"
        },
        "id": "I1ZJXr0vKDpJ",
        "outputId": "03eaba81-1761-4e52-905c-a1f3dc9ca504"
      },
      "execution_count": 5,
      "outputs": [
        {
          "output_type": "stream",
          "name": "stdout",
          "text": [
            "0    3000.0\n",
            "1    5000.0\n",
            "2    4500.0\n",
            "3       NaN\n",
            "4    6000.0\n",
            "Name: Revenue, dtype: float64\n"
          ]
        }
      ]
    },
    {
      "cell_type": "code",
      "source": [
        "df = {\n",
        "    'Names' : ['Abdallah','Mohammed','Abdallah','Adam'],\n",
        "    'Comapny' :['Apple','google','Amazon','OpenAi'],\n",
        "    'Years_of_experince' : [9,4,5,6]\n",
        "}\n",
        "df =pd.DataFrame(df)\n",
        "print(df)"
      ],
      "metadata": {
        "colab": {
          "base_uri": "https://localhost:8080/"
        },
        "id": "cr3uN9MCKk0q",
        "outputId": "af67e60b-841e-4de3-cad8-e9bc0ea77eae"
      },
      "execution_count": 6,
      "outputs": [
        {
          "output_type": "stream",
          "name": "stdout",
          "text": [
            "      Names Comapny  Years_of_experince\n",
            "0  Abdallah   Apple                   9\n",
            "1  Mohammed  google                   4\n",
            "2  Abdallah  Amazon                   5\n",
            "3      Adam  OpenAi                   6\n"
          ]
        }
      ]
    },
    {
      "cell_type": "code",
      "source": [
        "print(df.head(3))\n",
        "print(\"\\n\\n\")\n",
        "print(df.tail(2))\n",
        "print(\"\\n\\n\")"
      ],
      "metadata": {
        "colab": {
          "base_uri": "https://localhost:8080/"
        },
        "id": "vD86WMStLPN5",
        "outputId": "e4837b07-bb1f-4f90-951d-b0b89d531e6c"
      },
      "execution_count": 7,
      "outputs": [
        {
          "output_type": "stream",
          "name": "stdout",
          "text": [
            "      Names Comapny  Years_of_experince\n",
            "0  Abdallah   Apple                   9\n",
            "1  Mohammed  google                   4\n",
            "2  Abdallah  Amazon                   5\n",
            "\n",
            "\n",
            "\n",
            "      Names Comapny  Years_of_experince\n",
            "2  Abdallah  Amazon                   5\n",
            "3      Adam  OpenAi                   6\n",
            "\n",
            "\n",
            "\n"
          ]
        }
      ]
    },
    {
      "cell_type": "code",
      "source": [
        "print(\"\\n\\n\")\n",
        "print(df.info)\n",
        "print(\"\\n\\n\")\n",
        "df.info()"
      ],
      "metadata": {
        "colab": {
          "base_uri": "https://localhost:8080/"
        },
        "id": "fIyODGyfQyZC",
        "outputId": "62622ef5-69dc-4d5a-8478-79b64b03f7f4"
      },
      "execution_count": 8,
      "outputs": [
        {
          "output_type": "stream",
          "name": "stdout",
          "text": [
            "\n",
            "\n",
            "\n",
            "<bound method DataFrame.info of       Names Comapny  Years_of_experince\n",
            "0  Abdallah   Apple                   9\n",
            "1  Mohammed  google                   4\n",
            "2  Abdallah  Amazon                   5\n",
            "3      Adam  OpenAi                   6>\n",
            "\n",
            "\n",
            "\n",
            "<class 'pandas.core.frame.DataFrame'>\n",
            "RangeIndex: 4 entries, 0 to 3\n",
            "Data columns (total 3 columns):\n",
            " #   Column              Non-Null Count  Dtype \n",
            "---  ------              --------------  ----- \n",
            " 0   Names               4 non-null      object\n",
            " 1   Comapny             4 non-null      object\n",
            " 2   Years_of_experince  4 non-null      int64 \n",
            "dtypes: int64(1), object(2)\n",
            "memory usage: 228.0+ bytes\n"
          ]
        }
      ]
    },
    {
      "cell_type": "code",
      "source": [
        "df.describe()\n"
      ],
      "metadata": {
        "colab": {
          "base_uri": "https://localhost:8080/",
          "height": 300
        },
        "id": "E6rwxF3rSS2-",
        "outputId": "0bc74d19-183f-4ec5-df97-031e37965e43"
      },
      "execution_count": 9,
      "outputs": [
        {
          "output_type": "execute_result",
          "data": {
            "text/plain": [
              "       Years_of_experince\n",
              "count            4.000000\n",
              "mean             6.000000\n",
              "std              2.160247\n",
              "min              4.000000\n",
              "25%              4.750000\n",
              "50%              5.500000\n",
              "75%              6.750000\n",
              "max              9.000000"
            ],
            "text/html": [
              "\n",
              "  <div id=\"df-ebe9fd73-9b39-4e2c-a5b9-2841f249043c\" class=\"colab-df-container\">\n",
              "    <div>\n",
              "<style scoped>\n",
              "    .dataframe tbody tr th:only-of-type {\n",
              "        vertical-align: middle;\n",
              "    }\n",
              "\n",
              "    .dataframe tbody tr th {\n",
              "        vertical-align: top;\n",
              "    }\n",
              "\n",
              "    .dataframe thead th {\n",
              "        text-align: right;\n",
              "    }\n",
              "</style>\n",
              "<table border=\"1\" class=\"dataframe\">\n",
              "  <thead>\n",
              "    <tr style=\"text-align: right;\">\n",
              "      <th></th>\n",
              "      <th>Years_of_experince</th>\n",
              "    </tr>\n",
              "  </thead>\n",
              "  <tbody>\n",
              "    <tr>\n",
              "      <th>count</th>\n",
              "      <td>4.000000</td>\n",
              "    </tr>\n",
              "    <tr>\n",
              "      <th>mean</th>\n",
              "      <td>6.000000</td>\n",
              "    </tr>\n",
              "    <tr>\n",
              "      <th>std</th>\n",
              "      <td>2.160247</td>\n",
              "    </tr>\n",
              "    <tr>\n",
              "      <th>min</th>\n",
              "      <td>4.000000</td>\n",
              "    </tr>\n",
              "    <tr>\n",
              "      <th>25%</th>\n",
              "      <td>4.750000</td>\n",
              "    </tr>\n",
              "    <tr>\n",
              "      <th>50%</th>\n",
              "      <td>5.500000</td>\n",
              "    </tr>\n",
              "    <tr>\n",
              "      <th>75%</th>\n",
              "      <td>6.750000</td>\n",
              "    </tr>\n",
              "    <tr>\n",
              "      <th>max</th>\n",
              "      <td>9.000000</td>\n",
              "    </tr>\n",
              "  </tbody>\n",
              "</table>\n",
              "</div>\n",
              "    <div class=\"colab-df-buttons\">\n",
              "\n",
              "  <div class=\"colab-df-container\">\n",
              "    <button class=\"colab-df-convert\" onclick=\"convertToInteractive('df-ebe9fd73-9b39-4e2c-a5b9-2841f249043c')\"\n",
              "            title=\"Convert this dataframe to an interactive table.\"\n",
              "            style=\"display:none;\">\n",
              "\n",
              "  <svg xmlns=\"http://www.w3.org/2000/svg\" height=\"24px\" viewBox=\"0 -960 960 960\">\n",
              "    <path d=\"M120-120v-720h720v720H120Zm60-500h600v-160H180v160Zm220 220h160v-160H400v160Zm0 220h160v-160H400v160ZM180-400h160v-160H180v160Zm440 0h160v-160H620v160ZM180-180h160v-160H180v160Zm440 0h160v-160H620v160Z\"/>\n",
              "  </svg>\n",
              "    </button>\n",
              "\n",
              "  <style>\n",
              "    .colab-df-container {\n",
              "      display:flex;\n",
              "      gap: 12px;\n",
              "    }\n",
              "\n",
              "    .colab-df-convert {\n",
              "      background-color: #E8F0FE;\n",
              "      border: none;\n",
              "      border-radius: 50%;\n",
              "      cursor: pointer;\n",
              "      display: none;\n",
              "      fill: #1967D2;\n",
              "      height: 32px;\n",
              "      padding: 0 0 0 0;\n",
              "      width: 32px;\n",
              "    }\n",
              "\n",
              "    .colab-df-convert:hover {\n",
              "      background-color: #E2EBFA;\n",
              "      box-shadow: 0px 1px 2px rgba(60, 64, 67, 0.3), 0px 1px 3px 1px rgba(60, 64, 67, 0.15);\n",
              "      fill: #174EA6;\n",
              "    }\n",
              "\n",
              "    .colab-df-buttons div {\n",
              "      margin-bottom: 4px;\n",
              "    }\n",
              "\n",
              "    [theme=dark] .colab-df-convert {\n",
              "      background-color: #3B4455;\n",
              "      fill: #D2E3FC;\n",
              "    }\n",
              "\n",
              "    [theme=dark] .colab-df-convert:hover {\n",
              "      background-color: #434B5C;\n",
              "      box-shadow: 0px 1px 3px 1px rgba(0, 0, 0, 0.15);\n",
              "      filter: drop-shadow(0px 1px 2px rgba(0, 0, 0, 0.3));\n",
              "      fill: #FFFFFF;\n",
              "    }\n",
              "  </style>\n",
              "\n",
              "    <script>\n",
              "      const buttonEl =\n",
              "        document.querySelector('#df-ebe9fd73-9b39-4e2c-a5b9-2841f249043c button.colab-df-convert');\n",
              "      buttonEl.style.display =\n",
              "        google.colab.kernel.accessAllowed ? 'block' : 'none';\n",
              "\n",
              "      async function convertToInteractive(key) {\n",
              "        const element = document.querySelector('#df-ebe9fd73-9b39-4e2c-a5b9-2841f249043c');\n",
              "        const dataTable =\n",
              "          await google.colab.kernel.invokeFunction('convertToInteractive',\n",
              "                                                    [key], {});\n",
              "        if (!dataTable) return;\n",
              "\n",
              "        const docLinkHtml = 'Like what you see? Visit the ' +\n",
              "          '<a target=\"_blank\" href=https://colab.research.google.com/notebooks/data_table.ipynb>data table notebook</a>'\n",
              "          + ' to learn more about interactive tables.';\n",
              "        element.innerHTML = '';\n",
              "        dataTable['output_type'] = 'display_data';\n",
              "        await google.colab.output.renderOutput(dataTable, element);\n",
              "        const docLink = document.createElement('div');\n",
              "        docLink.innerHTML = docLinkHtml;\n",
              "        element.appendChild(docLink);\n",
              "      }\n",
              "    </script>\n",
              "  </div>\n",
              "\n",
              "\n",
              "    <div id=\"df-f1fc7da2-928f-4bf5-b6df-44b2816d0e0c\">\n",
              "      <button class=\"colab-df-quickchart\" onclick=\"quickchart('df-f1fc7da2-928f-4bf5-b6df-44b2816d0e0c')\"\n",
              "                title=\"Suggest charts\"\n",
              "                style=\"display:none;\">\n",
              "\n",
              "<svg xmlns=\"http://www.w3.org/2000/svg\" height=\"24px\"viewBox=\"0 0 24 24\"\n",
              "     width=\"24px\">\n",
              "    <g>\n",
              "        <path d=\"M19 3H5c-1.1 0-2 .9-2 2v14c0 1.1.9 2 2 2h14c1.1 0 2-.9 2-2V5c0-1.1-.9-2-2-2zM9 17H7v-7h2v7zm4 0h-2V7h2v10zm4 0h-2v-4h2v4z\"/>\n",
              "    </g>\n",
              "</svg>\n",
              "      </button>\n",
              "\n",
              "<style>\n",
              "  .colab-df-quickchart {\n",
              "      --bg-color: #E8F0FE;\n",
              "      --fill-color: #1967D2;\n",
              "      --hover-bg-color: #E2EBFA;\n",
              "      --hover-fill-color: #174EA6;\n",
              "      --disabled-fill-color: #AAA;\n",
              "      --disabled-bg-color: #DDD;\n",
              "  }\n",
              "\n",
              "  [theme=dark] .colab-df-quickchart {\n",
              "      --bg-color: #3B4455;\n",
              "      --fill-color: #D2E3FC;\n",
              "      --hover-bg-color: #434B5C;\n",
              "      --hover-fill-color: #FFFFFF;\n",
              "      --disabled-bg-color: #3B4455;\n",
              "      --disabled-fill-color: #666;\n",
              "  }\n",
              "\n",
              "  .colab-df-quickchart {\n",
              "    background-color: var(--bg-color);\n",
              "    border: none;\n",
              "    border-radius: 50%;\n",
              "    cursor: pointer;\n",
              "    display: none;\n",
              "    fill: var(--fill-color);\n",
              "    height: 32px;\n",
              "    padding: 0;\n",
              "    width: 32px;\n",
              "  }\n",
              "\n",
              "  .colab-df-quickchart:hover {\n",
              "    background-color: var(--hover-bg-color);\n",
              "    box-shadow: 0 1px 2px rgba(60, 64, 67, 0.3), 0 1px 3px 1px rgba(60, 64, 67, 0.15);\n",
              "    fill: var(--button-hover-fill-color);\n",
              "  }\n",
              "\n",
              "  .colab-df-quickchart-complete:disabled,\n",
              "  .colab-df-quickchart-complete:disabled:hover {\n",
              "    background-color: var(--disabled-bg-color);\n",
              "    fill: var(--disabled-fill-color);\n",
              "    box-shadow: none;\n",
              "  }\n",
              "\n",
              "  .colab-df-spinner {\n",
              "    border: 2px solid var(--fill-color);\n",
              "    border-color: transparent;\n",
              "    border-bottom-color: var(--fill-color);\n",
              "    animation:\n",
              "      spin 1s steps(1) infinite;\n",
              "  }\n",
              "\n",
              "  @keyframes spin {\n",
              "    0% {\n",
              "      border-color: transparent;\n",
              "      border-bottom-color: var(--fill-color);\n",
              "      border-left-color: var(--fill-color);\n",
              "    }\n",
              "    20% {\n",
              "      border-color: transparent;\n",
              "      border-left-color: var(--fill-color);\n",
              "      border-top-color: var(--fill-color);\n",
              "    }\n",
              "    30% {\n",
              "      border-color: transparent;\n",
              "      border-left-color: var(--fill-color);\n",
              "      border-top-color: var(--fill-color);\n",
              "      border-right-color: var(--fill-color);\n",
              "    }\n",
              "    40% {\n",
              "      border-color: transparent;\n",
              "      border-right-color: var(--fill-color);\n",
              "      border-top-color: var(--fill-color);\n",
              "    }\n",
              "    60% {\n",
              "      border-color: transparent;\n",
              "      border-right-color: var(--fill-color);\n",
              "    }\n",
              "    80% {\n",
              "      border-color: transparent;\n",
              "      border-right-color: var(--fill-color);\n",
              "      border-bottom-color: var(--fill-color);\n",
              "    }\n",
              "    90% {\n",
              "      border-color: transparent;\n",
              "      border-bottom-color: var(--fill-color);\n",
              "    }\n",
              "  }\n",
              "</style>\n",
              "\n",
              "      <script>\n",
              "        async function quickchart(key) {\n",
              "          const quickchartButtonEl =\n",
              "            document.querySelector('#' + key + ' button');\n",
              "          quickchartButtonEl.disabled = true;  // To prevent multiple clicks.\n",
              "          quickchartButtonEl.classList.add('colab-df-spinner');\n",
              "          try {\n",
              "            const charts = await google.colab.kernel.invokeFunction(\n",
              "                'suggestCharts', [key], {});\n",
              "          } catch (error) {\n",
              "            console.error('Error during call to suggestCharts:', error);\n",
              "          }\n",
              "          quickchartButtonEl.classList.remove('colab-df-spinner');\n",
              "          quickchartButtonEl.classList.add('colab-df-quickchart-complete');\n",
              "        }\n",
              "        (() => {\n",
              "          let quickchartButtonEl =\n",
              "            document.querySelector('#df-f1fc7da2-928f-4bf5-b6df-44b2816d0e0c button');\n",
              "          quickchartButtonEl.style.display =\n",
              "            google.colab.kernel.accessAllowed ? 'block' : 'none';\n",
              "        })();\n",
              "      </script>\n",
              "    </div>\n",
              "\n",
              "    </div>\n",
              "  </div>\n"
            ],
            "application/vnd.google.colaboratory.intrinsic+json": {
              "type": "dataframe",
              "summary": "{\n  \"name\": \"df\",\n  \"rows\": 8,\n  \"fields\": [\n    {\n      \"column\": \"Years_of_experince\",\n      \"properties\": {\n        \"dtype\": \"number\",\n        \"std\": 2.0652175374397337,\n        \"min\": 2.160246899469287,\n        \"max\": 9.0,\n        \"num_unique_values\": 7,\n        \"samples\": [\n          4.0,\n          6.0,\n          6.75\n        ],\n        \"semantic_type\": \"\",\n        \"description\": \"\"\n      }\n    }\n  ]\n}"
            }
          },
          "metadata": {},
          "execution_count": 9
        }
      ]
    },
    {
      "cell_type": "code",
      "source": [
        "print(df.isna().sum())"
      ],
      "metadata": {
        "colab": {
          "base_uri": "https://localhost:8080/"
        },
        "id": "sAc3aNt2Spo5",
        "outputId": "7a75811d-879e-431a-b032-ae9c0390052c"
      },
      "execution_count": 10,
      "outputs": [
        {
          "output_type": "stream",
          "name": "stdout",
          "text": [
            "Names                 0\n",
            "Comapny               0\n",
            "Years_of_experince    0\n",
            "dtype: int64\n"
          ]
        }
      ]
    },
    {
      "cell_type": "code",
      "source": [
        "print(df.isna())"
      ],
      "metadata": {
        "colab": {
          "base_uri": "https://localhost:8080/"
        },
        "id": "b0CoBSkMTHAr",
        "outputId": "082cf2d8-4834-408a-b5c8-1f9b3bd65687"
      },
      "execution_count": 11,
      "outputs": [
        {
          "output_type": "stream",
          "name": "stdout",
          "text": [
            "   Names  Comapny  Years_of_experince\n",
            "0  False    False               False\n",
            "1  False    False               False\n",
            "2  False    False               False\n",
            "3  False    False               False\n"
          ]
        }
      ]
    },
    {
      "cell_type": "code",
      "source": [
        "import numpy as np\n",
        "df.loc[1, 'Years_of_experince' ] = np.nan\n",
        "print(df)\n",
        "print(df.isna().sum())\n",
        "print(df.dropna())"
      ],
      "metadata": {
        "id": "_OIDN3laTpJK",
        "colab": {
          "base_uri": "https://localhost:8080/"
        },
        "outputId": "c740f175-6edc-4520-f832-a0eb2e153db7"
      },
      "execution_count": 12,
      "outputs": [
        {
          "output_type": "stream",
          "name": "stdout",
          "text": [
            "      Names Comapny  Years_of_experince\n",
            "0  Abdallah   Apple                 9.0\n",
            "1  Mohammed  google                 NaN\n",
            "2  Abdallah  Amazon                 5.0\n",
            "3      Adam  OpenAi                 6.0\n",
            "Names                 0\n",
            "Comapny               0\n",
            "Years_of_experince    1\n",
            "dtype: int64\n",
            "      Names Comapny  Years_of_experince\n",
            "0  Abdallah   Apple                 9.0\n",
            "2  Abdallah  Amazon                 5.0\n",
            "3      Adam  OpenAi                 6.0\n"
          ]
        }
      ]
    },
    {
      "cell_type": "code",
      "source": [
        "df = {\n",
        "    'Names' : ['Abdallah','Mohammed','Abdallah','Adam'],\n",
        "    'Comapny' :['Apple','google','Amazon','OpenAi'],\n",
        "    'Years_of_experince' : [9,4,5,6]\n",
        "}\n",
        "df =pd.DataFrame(df)\n",
        "print(df)"
      ],
      "metadata": {
        "colab": {
          "base_uri": "https://localhost:8080/"
        },
        "id": "XoUDtMo0zzqa",
        "outputId": "6f6ffd6f-c3a4-41f1-fe79-902c87748a42"
      },
      "execution_count": 13,
      "outputs": [
        {
          "output_type": "stream",
          "name": "stdout",
          "text": [
            "      Names Comapny  Years_of_experince\n",
            "0  Abdallah   Apple                   9\n",
            "1  Mohammed  google                   4\n",
            "2  Abdallah  Amazon                   5\n",
            "3      Adam  OpenAi                   6\n"
          ]
        }
      ]
    },
    {
      "cell_type": "code",
      "source": [
        "print(df[['Names','Comapny']])\n",
        "print(\"\\n\\n\",df.iloc[2])"
      ],
      "metadata": {
        "colab": {
          "base_uri": "https://localhost:8080/"
        },
        "id": "zWf1MIsA1sVs",
        "outputId": "d143568b-31a4-4309-f457-dc0bbea34e44"
      },
      "execution_count": 14,
      "outputs": [
        {
          "output_type": "stream",
          "name": "stdout",
          "text": [
            "      Names Comapny\n",
            "0  Abdallah   Apple\n",
            "1  Mohammed  google\n",
            "2  Abdallah  Amazon\n",
            "3      Adam  OpenAi\n",
            "\n",
            "\n",
            " Names                 Abdallah\n",
            "Comapny                 Amazon\n",
            "Years_of_experince           5\n",
            "Name: 2, dtype: object\n"
          ]
        }
      ]
    },
    {
      "cell_type": "code",
      "source": [
        "import pandas as pd\n",
        "\n",
        "data = {\n",
        "    \"Name\": [\"Ali\", \"Sara\", \"Omar\"],\n",
        "    \"Age\": [23, 21, 25]\n",
        "}\n",
        "\n",
        "# نغير الـ index لأسامي نصية\n",
        "data = pd.DataFrame(data, index=[\"i love Melbourne\", \"student_2\", \"student_3\"])\n",
        "print(data)\n",
        "\n",
        "\n",
        "print(data.loc[\"i love Melbourne\"])\n",
        "\n",
        "\n"
      ],
      "metadata": {
        "colab": {
          "base_uri": "https://localhost:8080/"
        },
        "id": "FlTbAthy2VWu",
        "outputId": "5da363b3-a82d-4ea4-f29d-ba92f4d0881e"
      },
      "execution_count": 15,
      "outputs": [
        {
          "output_type": "stream",
          "name": "stdout",
          "text": [
            "                  Name  Age\n",
            "i love Melbourne   Ali   23\n",
            "student_2         Sara   21\n",
            "student_3         Omar   25\n",
            "Name    Ali\n",
            "Age      23\n",
            "Name: i love Melbourne, dtype: object\n"
          ]
        }
      ]
    },
    {
      "cell_type": "code",
      "source": [
        "print(df[df['Years_of_experince'] > 5])"
      ],
      "metadata": {
        "colab": {
          "base_uri": "https://localhost:8080/"
        },
        "id": "uSS2RGPp5J6e",
        "outputId": "447af797-b3cf-41a9-fd62-2ab4e7052594"
      },
      "execution_count": 16,
      "outputs": [
        {
          "output_type": "stream",
          "name": "stdout",
          "text": [
            "      Names Comapny  Years_of_experince\n",
            "0  Abdallah   Apple                   9\n",
            "3      Adam  OpenAi                   6\n"
          ]
        }
      ]
    },
    {
      "cell_type": "code",
      "source": [
        "print(df[df['Comapny']=='Apple'])"
      ],
      "metadata": {
        "colab": {
          "base_uri": "https://localhost:8080/"
        },
        "id": "ODuxNoKTDCUx",
        "outputId": "e1c0e3da-363e-4b4e-9ae0-0d9bbfb65ea3"
      },
      "execution_count": 17,
      "outputs": [
        {
          "output_type": "stream",
          "name": "stdout",
          "text": [
            "      Names Comapny  Years_of_experince\n",
            "0  Abdallah   Apple                   9\n"
          ]
        }
      ]
    },
    {
      "cell_type": "code",
      "source": [
        "df['Comapny'] = df['Comapny'].str.lower()\n",
        "print(df)\n"
      ],
      "metadata": {
        "colab": {
          "base_uri": "https://localhost:8080/"
        },
        "id": "mhBDsH_jDh4x",
        "outputId": "511a606a-ae04-4c6a-db22-da5482557fda"
      },
      "execution_count": 18,
      "outputs": [
        {
          "output_type": "stream",
          "name": "stdout",
          "text": [
            "      Names Comapny  Years_of_experince\n",
            "0  Abdallah   apple                   9\n",
            "1  Mohammed  google                   4\n",
            "2  Abdallah  amazon                   5\n",
            "3      Adam  openai                   6\n"
          ]
        }
      ]
    },
    {
      "cell_type": "code",
      "source": [
        "df['Is_Very_Seior'] = df['Years_of_experince'] >=5\n",
        "print(df)"
      ],
      "metadata": {
        "colab": {
          "base_uri": "https://localhost:8080/"
        },
        "id": "NAAmtG1eKaId",
        "outputId": "37c813e2-c388-43a0-be87-5b8132493fb9"
      },
      "execution_count": 19,
      "outputs": [
        {
          "output_type": "stream",
          "name": "stdout",
          "text": [
            "      Names Comapny  Years_of_experince  Is_Very_Seior\n",
            "0  Abdallah   apple                   9           True\n",
            "1  Mohammed  google                   4          False\n",
            "2  Abdallah  amazon                   5           True\n",
            "3      Adam  openai                   6           True\n"
          ]
        }
      ]
    },
    {
      "cell_type": "code",
      "source": [
        "from os import pidfd_open\n",
        "df_project = pd.DataFrame({\n",
        "    'Client' : ['Kiwilytics', 'PwC', 'EY', 'KPMG', 'McKinsey'],\n",
        "    'Budget_kUSD': [120, 200, np.nan, 150, None]\n",
        "})\n",
        "\n",
        "print(df_project,'\\n\\n')\n",
        "\n",
        "mean_budget = df_project['Budget_kUSD'].mean()\n",
        "print(mean_budget)\n",
        "\n",
        "df_project['Budget_kUSD'] = df_project['Budget_kUSD'].fillna(mean_budget)\n",
        "\n",
        "print(df_project)\n"
      ],
      "metadata": {
        "colab": {
          "base_uri": "https://localhost:8080/"
        },
        "id": "e3nXj5BFWg0X",
        "outputId": "6a9a577c-e4cf-4444-81be-a59946c70654"
      },
      "execution_count": 20,
      "outputs": [
        {
          "output_type": "stream",
          "name": "stdout",
          "text": [
            "       Client  Budget_kUSD\n",
            "0  Kiwilytics        120.0\n",
            "1         PwC        200.0\n",
            "2          EY          NaN\n",
            "3        KPMG        150.0\n",
            "4    McKinsey          NaN \n",
            "\n",
            "\n",
            "156.66666666666666\n",
            "       Client  Budget_kUSD\n",
            "0  Kiwilytics   120.000000\n",
            "1         PwC   200.000000\n",
            "2          EY   156.666667\n",
            "3        KPMG   150.000000\n",
            "4    McKinsey   156.666667\n"
          ]
        }
      ]
    },
    {
      "cell_type": "code",
      "source": [
        "# Revenue per company per quarter\n",
        "df_revenue = pd.DataFrame({\n",
        "    'Company': ['Kiwilytics', 'PwC', 'EY', 'KPMG', 'Kiwilytics', 'PwC'],\n",
        "    'Quarter': ['Q1', 'Q1', 'Q1', 'Q1', 'Q2', 'Q2'],\n",
        "    'Revenue_kUSD': [120, 200, 180, 150, 130, 210]\n",
        "})\n",
        "\n",
        "print(df_revenue)\n",
        "\n"
      ],
      "metadata": {
        "colab": {
          "base_uri": "https://localhost:8080/"
        },
        "id": "lN6lE0BTYxXD",
        "outputId": "3dfd52f6-f536-4bd2-94d4-924b04721183"
      },
      "execution_count": 21,
      "outputs": [
        {
          "output_type": "stream",
          "name": "stdout",
          "text": [
            "      Company Quarter  Revenue_kUSD\n",
            "0  Kiwilytics      Q1           120\n",
            "1         PwC      Q1           200\n",
            "2          EY      Q1           180\n",
            "3        KPMG      Q1           150\n",
            "4  Kiwilytics      Q2           130\n",
            "5         PwC      Q2           210\n"
          ]
        }
      ]
    },
    {
      "cell_type": "code",
      "source": [
        "grouped = df_revenue.groupby('Company')['Revenue_kUSD'].sum()\n",
        "print(grouped)"
      ],
      "metadata": {
        "colab": {
          "base_uri": "https://localhost:8080/"
        },
        "id": "1BRz5ICHbOPj",
        "outputId": "d56085a7-fc62-4416-d545-4a775da97181"
      },
      "execution_count": 22,
      "outputs": [
        {
          "output_type": "stream",
          "name": "stdout",
          "text": [
            "Company\n",
            "EY            180\n",
            "KPMG          150\n",
            "Kiwilytics    250\n",
            "PwC           410\n",
            "Name: Revenue_kUSD, dtype: int64\n"
          ]
        }
      ]
    },
    {
      "cell_type": "code",
      "source": [
        "import pandas as pd\n",
        "df_managers = pd.DataFrame({\n",
        "    'ManagerId': [1, 2, 3],\n",
        "    'Name': ['Ibrahim', 'Maher', 'Abdelrahman']\n",
        "})\n",
        "\n",
        "df_projects = pd.DataFrame({\n",
        "    'ProjectId' : [101,102,103],\n",
        "    'ManagerId' : [1,2,2,],\n",
        "    'Clients '  :  ['Kiwilytics', 'PwC', 'EY']\n",
        "})\n",
        "\n",
        "merged_df = pd.merge(df_managers, df_projects, on='ManagerId', how='inner')\n",
        "print(merged_df)"
      ],
      "metadata": {
        "id": "xHDrTN1YboNq",
        "colab": {
          "base_uri": "https://localhost:8080/"
        },
        "outputId": "141c782f-6980-4916-a26a-a81ce65eccb3"
      },
      "execution_count": 23,
      "outputs": [
        {
          "output_type": "stream",
          "name": "stdout",
          "text": [
            "   ManagerId     Name  ProjectId    Clients \n",
            "0          1  Ibrahim        101  Kiwilytics\n",
            "1          2    Maher        102         PwC\n",
            "2          2    Maher        103          EY\n"
          ]
        }
      ]
    },
    {
      "cell_type": "code",
      "source": [
        "from google.colab import files\n",
        "uploaded = files.upload()\n"
      ],
      "metadata": {
        "colab": {
          "base_uri": "https://localhost:8080/",
          "height": 73
        },
        "id": "MNWQZ0lpmGBk",
        "outputId": "31ab197a-7957-4151-88c8-12f5d8ca118f"
      },
      "execution_count": 24,
      "outputs": [
        {
          "output_type": "display_data",
          "data": {
            "text/plain": [
              "<IPython.core.display.HTML object>"
            ],
            "text/html": [
              "\n",
              "     <input type=\"file\" id=\"files-d45a7a63-5757-4618-ab09-7eab70f88162\" name=\"files[]\" multiple disabled\n",
              "        style=\"border:none\" />\n",
              "     <output id=\"result-d45a7a63-5757-4618-ab09-7eab70f88162\">\n",
              "      Upload widget is only available when the cell has been executed in the\n",
              "      current browser session. Please rerun this cell to enable.\n",
              "      </output>\n",
              "      <script>// Copyright 2017 Google LLC\n",
              "//\n",
              "// Licensed under the Apache License, Version 2.0 (the \"License\");\n",
              "// you may not use this file except in compliance with the License.\n",
              "// You may obtain a copy of the License at\n",
              "//\n",
              "//      http://www.apache.org/licenses/LICENSE-2.0\n",
              "//\n",
              "// Unless required by applicable law or agreed to in writing, software\n",
              "// distributed under the License is distributed on an \"AS IS\" BASIS,\n",
              "// WITHOUT WARRANTIES OR CONDITIONS OF ANY KIND, either express or implied.\n",
              "// See the License for the specific language governing permissions and\n",
              "// limitations under the License.\n",
              "\n",
              "/**\n",
              " * @fileoverview Helpers for google.colab Python module.\n",
              " */\n",
              "(function(scope) {\n",
              "function span(text, styleAttributes = {}) {\n",
              "  const element = document.createElement('span');\n",
              "  element.textContent = text;\n",
              "  for (const key of Object.keys(styleAttributes)) {\n",
              "    element.style[key] = styleAttributes[key];\n",
              "  }\n",
              "  return element;\n",
              "}\n",
              "\n",
              "// Max number of bytes which will be uploaded at a time.\n",
              "const MAX_PAYLOAD_SIZE = 100 * 1024;\n",
              "\n",
              "function _uploadFiles(inputId, outputId) {\n",
              "  const steps = uploadFilesStep(inputId, outputId);\n",
              "  const outputElement = document.getElementById(outputId);\n",
              "  // Cache steps on the outputElement to make it available for the next call\n",
              "  // to uploadFilesContinue from Python.\n",
              "  outputElement.steps = steps;\n",
              "\n",
              "  return _uploadFilesContinue(outputId);\n",
              "}\n",
              "\n",
              "// This is roughly an async generator (not supported in the browser yet),\n",
              "// where there are multiple asynchronous steps and the Python side is going\n",
              "// to poll for completion of each step.\n",
              "// This uses a Promise to block the python side on completion of each step,\n",
              "// then passes the result of the previous step as the input to the next step.\n",
              "function _uploadFilesContinue(outputId) {\n",
              "  const outputElement = document.getElementById(outputId);\n",
              "  const steps = outputElement.steps;\n",
              "\n",
              "  const next = steps.next(outputElement.lastPromiseValue);\n",
              "  return Promise.resolve(next.value.promise).then((value) => {\n",
              "    // Cache the last promise value to make it available to the next\n",
              "    // step of the generator.\n",
              "    outputElement.lastPromiseValue = value;\n",
              "    return next.value.response;\n",
              "  });\n",
              "}\n",
              "\n",
              "/**\n",
              " * Generator function which is called between each async step of the upload\n",
              " * process.\n",
              " * @param {string} inputId Element ID of the input file picker element.\n",
              " * @param {string} outputId Element ID of the output display.\n",
              " * @return {!Iterable<!Object>} Iterable of next steps.\n",
              " */\n",
              "function* uploadFilesStep(inputId, outputId) {\n",
              "  const inputElement = document.getElementById(inputId);\n",
              "  inputElement.disabled = false;\n",
              "\n",
              "  const outputElement = document.getElementById(outputId);\n",
              "  outputElement.innerHTML = '';\n",
              "\n",
              "  const pickedPromise = new Promise((resolve) => {\n",
              "    inputElement.addEventListener('change', (e) => {\n",
              "      resolve(e.target.files);\n",
              "    });\n",
              "  });\n",
              "\n",
              "  const cancel = document.createElement('button');\n",
              "  inputElement.parentElement.appendChild(cancel);\n",
              "  cancel.textContent = 'Cancel upload';\n",
              "  const cancelPromise = new Promise((resolve) => {\n",
              "    cancel.onclick = () => {\n",
              "      resolve(null);\n",
              "    };\n",
              "  });\n",
              "\n",
              "  // Wait for the user to pick the files.\n",
              "  const files = yield {\n",
              "    promise: Promise.race([pickedPromise, cancelPromise]),\n",
              "    response: {\n",
              "      action: 'starting',\n",
              "    }\n",
              "  };\n",
              "\n",
              "  cancel.remove();\n",
              "\n",
              "  // Disable the input element since further picks are not allowed.\n",
              "  inputElement.disabled = true;\n",
              "\n",
              "  if (!files) {\n",
              "    return {\n",
              "      response: {\n",
              "        action: 'complete',\n",
              "      }\n",
              "    };\n",
              "  }\n",
              "\n",
              "  for (const file of files) {\n",
              "    const li = document.createElement('li');\n",
              "    li.append(span(file.name, {fontWeight: 'bold'}));\n",
              "    li.append(span(\n",
              "        `(${file.type || 'n/a'}) - ${file.size} bytes, ` +\n",
              "        `last modified: ${\n",
              "            file.lastModifiedDate ? file.lastModifiedDate.toLocaleDateString() :\n",
              "                                    'n/a'} - `));\n",
              "    const percent = span('0% done');\n",
              "    li.appendChild(percent);\n",
              "\n",
              "    outputElement.appendChild(li);\n",
              "\n",
              "    const fileDataPromise = new Promise((resolve) => {\n",
              "      const reader = new FileReader();\n",
              "      reader.onload = (e) => {\n",
              "        resolve(e.target.result);\n",
              "      };\n",
              "      reader.readAsArrayBuffer(file);\n",
              "    });\n",
              "    // Wait for the data to be ready.\n",
              "    let fileData = yield {\n",
              "      promise: fileDataPromise,\n",
              "      response: {\n",
              "        action: 'continue',\n",
              "      }\n",
              "    };\n",
              "\n",
              "    // Use a chunked sending to avoid message size limits. See b/62115660.\n",
              "    let position = 0;\n",
              "    do {\n",
              "      const length = Math.min(fileData.byteLength - position, MAX_PAYLOAD_SIZE);\n",
              "      const chunk = new Uint8Array(fileData, position, length);\n",
              "      position += length;\n",
              "\n",
              "      const base64 = btoa(String.fromCharCode.apply(null, chunk));\n",
              "      yield {\n",
              "        response: {\n",
              "          action: 'append',\n",
              "          file: file.name,\n",
              "          data: base64,\n",
              "        },\n",
              "      };\n",
              "\n",
              "      let percentDone = fileData.byteLength === 0 ?\n",
              "          100 :\n",
              "          Math.round((position / fileData.byteLength) * 100);\n",
              "      percent.textContent = `${percentDone}% done`;\n",
              "\n",
              "    } while (position < fileData.byteLength);\n",
              "  }\n",
              "\n",
              "  // All done.\n",
              "  yield {\n",
              "    response: {\n",
              "      action: 'complete',\n",
              "    }\n",
              "  };\n",
              "}\n",
              "\n",
              "scope.google = scope.google || {};\n",
              "scope.google.colab = scope.google.colab || {};\n",
              "scope.google.colab._files = {\n",
              "  _uploadFiles,\n",
              "  _uploadFilesContinue,\n",
              "};\n",
              "})(self);\n",
              "</script> "
            ]
          },
          "metadata": {}
        },
        {
          "output_type": "stream",
          "name": "stdout",
          "text": [
            "Saving Orders_with_issues1.csv to Orders_with_issues1.csv\n"
          ]
        }
      ]
    },
    {
      "cell_type": "code",
      "source": [
        "import pandas as pd\n",
        "import numpy as np\n",
        "\n",
        "df = pd.read_csv(\"Orders_with_issues1.csv\")\n",
        "print(df.head())"
      ],
      "metadata": {
        "colab": {
          "base_uri": "https://localhost:8080/"
        },
        "id": "EHZ0RYtcooZV",
        "outputId": "530ff642-4daa-4a55-c02e-b7dd57075e14"
      },
      "execution_count": 25,
      "outputs": [
        {
          "output_type": "stream",
          "name": "stdout",
          "text": [
            "   OrderID CustomerID   OrderDate ShippedDate        ShippingCost ShipCountry  \\\n",
            "0   1000.0       C001  2025-05-17  2025-07-30  -57.25454602444980     Germany   \n",
            "1   1001.0       C002  2025-01-26  2025-07-30              320.61      Canada   \n",
            "2   1002.0       C003  2025-03-08  2025-07-30              165.17      Canada   \n",
            "3   1003.0       C004  2025-03-24  2025-07-30               12.55     Germany   \n",
            "4   1004.0       C005  2025-04-15  2025-07-30              186.36      Canada   \n",
            "\n",
            "    ShipCity                 ShippingCompany  \n",
            "0    Hamburg  Kiwilytics Goods Shipping LLC.  \n",
            "1   Montreal                   UPS Worldwide  \n",
            "2  Vancouver                 FedEx Logistics  \n",
            "3     Munich            Aramex International  \n",
            "4  Vancouver                 FedEx Logistics  \n"
          ]
        }
      ]
    },
    {
      "cell_type": "code",
      "source": [
        "\n",
        "df = pd.read_csv(\"Orders_with_issues1.csv\")\n",
        "print(df.info(100))"
      ],
      "metadata": {
        "colab": {
          "base_uri": "https://localhost:8080/"
        },
        "id": "UglVa8VEszIS",
        "outputId": "1d299749-686c-4bd0-992e-4cc284fd232c"
      },
      "execution_count": 26,
      "outputs": [
        {
          "output_type": "stream",
          "name": "stdout",
          "text": [
            "<class 'pandas.core.frame.DataFrame'>\n",
            "RangeIndex: 245 entries, 0 to 244\n",
            "Data columns (total 8 columns):\n",
            " #   Column           Non-Null Count  Dtype  \n",
            "---  ------           --------------  -----  \n",
            " 0   OrderID          239 non-null    float64\n",
            " 1   CustomerID       240 non-null    object \n",
            " 2   OrderDate        237 non-null    object \n",
            " 3   ShippedDate      219 non-null    object \n",
            " 4   ShippingCost     231 non-null    object \n",
            " 5   ShipCountry      245 non-null    object \n",
            " 6   ShipCity         241 non-null    object \n",
            " 7   ShippingCompany  245 non-null    object \n",
            "dtypes: float64(1), object(7)\n",
            "memory usage: 15.4+ KB\n",
            "None\n"
          ]
        }
      ]
    },
    {
      "cell_type": "code",
      "source": [
        "print(df.isna().sum())"
      ],
      "metadata": {
        "colab": {
          "base_uri": "https://localhost:8080/"
        },
        "id": "LBGT8HE_s64x",
        "outputId": "689883c0-613e-44f4-f554-e12b2c4ac4ba"
      },
      "execution_count": 27,
      "outputs": [
        {
          "output_type": "stream",
          "name": "stdout",
          "text": [
            "OrderID             6\n",
            "CustomerID          5\n",
            "OrderDate           8\n",
            "ShippedDate        26\n",
            "ShippingCost       14\n",
            "ShipCountry         0\n",
            "ShipCity            4\n",
            "ShippingCompany     0\n",
            "dtype: int64\n"
          ]
        }
      ]
    },
    {
      "cell_type": "code",
      "source": [
        "print(df['ShippingCompany'].value_counts())"
      ],
      "metadata": {
        "colab": {
          "base_uri": "https://localhost:8080/"
        },
        "id": "wRS1KNiUu_SN",
        "outputId": "abb511a8-b86d-4cad-ecaf-4215fa5dd045"
      },
      "execution_count": 28,
      "outputs": [
        {
          "output_type": "stream",
          "name": "stdout",
          "text": [
            "ShippingCompany\n",
            "FedEx Logistics                   54\n",
            "DHL Express                       53\n",
            "Aramex International              51\n",
            "UPS Worldwide                     46\n",
            "Kiwilytics Goods Shipping LLC.    41\n",
            "Name: count, dtype: int64\n"
          ]
        }
      ]
    },
    {
      "cell_type": "code",
      "source": [
        "df['OrderDate'] = pd.to_datetime(df['OrderDate'], errors='coerce')\n",
        "df['ShippedDate'] = pd.to_datetime(df['ShippedDate'], errors='coerce')\n",
        "df['ShippingCost'] = pd.to_numeric(df['ShippingCost'], errors='coerce')\n",
        "df.loc[df.ShippingCost < 0, 'ShippingCost'] = np.nan\n",
        "df=df[~(df['OrderDate'].isna() & df['ShippedDate'].isna())]"
      ],
      "metadata": {
        "id": "fESnpTZ6wEAt"
      },
      "execution_count": 29,
      "outputs": []
    },
    {
      "cell_type": "code",
      "source": [
        "df['OrderDate'] = df['OrderDate'].fillna(method='ffill')\n",
        "df['CustomerID'] = df['CustomerID'].fillna(\"Unknown\")\n",
        "df['ShipCity'] = df['ShipCity'].fillna(\"Unspecified\")"
      ],
      "metadata": {
        "colab": {
          "base_uri": "https://localhost:8080/"
        },
        "collapsed": true,
        "id": "ZDeiJGvJtptw",
        "outputId": "98352dd1-eacb-4f04-893e-95fbfc627bde"
      },
      "execution_count": 30,
      "outputs": [
        {
          "output_type": "stream",
          "name": "stderr",
          "text": [
            "/tmp/ipython-input-1045331880.py:1: FutureWarning: Series.fillna with 'method' is deprecated and will raise in a future version. Use obj.ffill() or obj.bfill() instead.\n",
            "  df['OrderDate'] = df['OrderDate'].fillna(method='ffill')\n"
          ]
        }
      ]
    },
    {
      "cell_type": "code",
      "source": [
        "df['ShipCountry'] = df['ShipCountry'].str.strip().str.title()\n",
        "df['ShipCity'] = df['ShipCity'].str.strip().str.title()\n",
        "df['ShippingCompany'] = df['ShippingCompany'].str.strip()"
      ],
      "metadata": {
        "id": "JoQgoKKXzt5w"
      },
      "execution_count": 31,
      "outputs": []
    },
    {
      "cell_type": "code",
      "source": [
        "df.loc[df['ShippingCompany'].str.contains(\"Kiwilytics\", na=False), 'ShippingCompany'] = \"Kiwilytics Goods Shipping LLC\""
      ],
      "metadata": {
        "id": "nVFZf71F1eh2"
      },
      "execution_count": 32,
      "outputs": []
    },
    {
      "cell_type": "code",
      "source": [
        "df['DeliveryDays'] = df['ShippedDate'] - df['OrderDate']"
      ],
      "metadata": {
        "id": "pDrX4Wl12DID"
      },
      "execution_count": 33,
      "outputs": []
    },
    {
      "cell_type": "code",
      "source": [
        "avg_Shipping_by_company = df.groupby('ShippingCompany')['ShippingCost'].mean()\n",
        "print(avg_Shipping_by_company)"
      ],
      "metadata": {
        "colab": {
          "base_uri": "https://localhost:8080/"
        },
        "id": "6J3AK9Oh3LbK",
        "outputId": "51b79ae4-6d85-4c94-b2d5-82643395b88f"
      },
      "execution_count": 34,
      "outputs": [
        {
          "output_type": "stream",
          "name": "stdout",
          "text": [
            "ShippingCompany\n",
            "Aramex International             258.805111\n",
            "DHL Express                      227.237778\n",
            "FedEx Logistics                  229.768235\n",
            "Kiwilytics Goods Shipping LLC    245.112162\n",
            "UPS Worldwide                    261.228571\n",
            "Name: ShippingCost, dtype: float64\n"
          ]
        }
      ]
    },
    {
      "cell_type": "code",
      "source": [
        "df.to_csv('cleaned_file.csv',index = False)"
      ],
      "metadata": {
        "id": "ofbcCGxn4Ueh"
      },
      "execution_count": 35,
      "outputs": []
    },
    {
      "cell_type": "code",
      "source": [
        "print(df.head())"
      ],
      "metadata": {
        "colab": {
          "base_uri": "https://localhost:8080/"
        },
        "id": "aGNgns7G5ZGE",
        "outputId": "a71c4226-0914-4911-f7c3-e163ab768c54"
      },
      "execution_count": 36,
      "outputs": [
        {
          "output_type": "stream",
          "name": "stdout",
          "text": [
            "   OrderID CustomerID  OrderDate ShippedDate  ShippingCost ShipCountry  \\\n",
            "0   1000.0       C001 2025-05-17  2025-07-30           NaN     Germany   \n",
            "1   1001.0       C002 2025-01-26  2025-07-30        320.61      Canada   \n",
            "2   1002.0       C003 2025-03-08  2025-07-30        165.17      Canada   \n",
            "3   1003.0       C004 2025-03-24  2025-07-30         12.55     Germany   \n",
            "4   1004.0       C005 2025-04-15  2025-07-30        186.36      Canada   \n",
            "\n",
            "    ShipCity                ShippingCompany DeliveryDays  \n",
            "0    Hamburg  Kiwilytics Goods Shipping LLC      74 days  \n",
            "1   Montreal                  UPS Worldwide     185 days  \n",
            "2  Vancouver                FedEx Logistics     144 days  \n",
            "3     Munich           Aramex International     128 days  \n",
            "4  Vancouver                FedEx Logistics     106 days  \n"
          ]
        }
      ]
    },
    {
      "cell_type": "code",
      "source": [
        "df['DeliveryStatus'] = df['ShippedDate'].apply(lambda x: 'Delivered' if pd.notna(x) else 'Pending')\n",
        "print(df['DeliveryStatus'].value_counts())\n",
        "\n",
        "print(df['DeliveryStatus'].value_counts())"
      ],
      "metadata": {
        "colab": {
          "base_uri": "https://localhost:8080/"
        },
        "id": "yI3ST2NI5mQi",
        "outputId": "2d1fcbbb-339e-48c6-9188-5c514222cb4b"
      },
      "execution_count": 37,
      "outputs": [
        {
          "output_type": "stream",
          "name": "stdout",
          "text": [
            "DeliveryStatus\n",
            "Delivered    211\n",
            "Pending       31\n",
            "Name: count, dtype: int64\n",
            "DeliveryStatus\n",
            "Delivered    211\n",
            "Pending       31\n",
            "Name: count, dtype: int64\n"
          ]
        }
      ]
    },
    {
      "cell_type": "code",
      "source": [
        "print(df.columns)\n"
      ],
      "metadata": {
        "colab": {
          "base_uri": "https://localhost:8080/"
        },
        "id": "3ZoneMgs6MU0",
        "outputId": "4f54af17-1369-4325-9193-5c77eba7ec1e"
      },
      "execution_count": 38,
      "outputs": [
        {
          "output_type": "stream",
          "name": "stdout",
          "text": [
            "Index(['OrderID', 'CustomerID', 'OrderDate', 'ShippedDate', 'ShippingCost',\n",
            "       'ShipCountry', 'ShipCity', 'ShippingCompany', 'DeliveryDays',\n",
            "       'DeliveryStatus'],\n",
            "      dtype='object')\n"
          ]
        }
      ]
    },
    {
      "cell_type": "code",
      "source": [
        "df.to_csv(\"Cleaned_orders_final.csv\",index=False)\n",
        "\n",
        "print(df.head())\n",
        "\n"
      ],
      "metadata": {
        "id": "4tSktF_p6mwA",
        "colab": {
          "base_uri": "https://localhost:8080/"
        },
        "outputId": "2ef93a6e-723b-4891-e0d9-78c802f04757"
      },
      "execution_count": 40,
      "outputs": [
        {
          "output_type": "stream",
          "name": "stdout",
          "text": [
            "   OrderID CustomerID  OrderDate ShippedDate  ShippingCost ShipCountry  \\\n",
            "0   1000.0       C001 2025-05-17  2025-07-30           NaN     Germany   \n",
            "1   1001.0       C002 2025-01-26  2025-07-30        320.61      Canada   \n",
            "2   1002.0       C003 2025-03-08  2025-07-30        165.17      Canada   \n",
            "3   1003.0       C004 2025-03-24  2025-07-30         12.55     Germany   \n",
            "4   1004.0       C005 2025-04-15  2025-07-30        186.36      Canada   \n",
            "\n",
            "    ShipCity                ShippingCompany DeliveryDays DeliveryStatus  \n",
            "0    Hamburg  Kiwilytics Goods Shipping LLC      74 days      Delivered  \n",
            "1   Montreal                  UPS Worldwide     185 days      Delivered  \n",
            "2  Vancouver                FedEx Logistics     144 days      Delivered  \n",
            "3     Munich           Aramex International     128 days      Delivered  \n",
            "4  Vancouver                FedEx Logistics     106 days      Delivered  \n"
          ]
        }
      ]
    },
    {
      "cell_type": "code",
      "source": [
        "print(df['DeliveryStatus'].value_counts())"
      ],
      "metadata": {
        "colab": {
          "base_uri": "https://localhost:8080/"
        },
        "id": "0pVtv8w-IRqi",
        "outputId": "b3da3ed8-3b40-4dd3-a719-890494429ada"
      },
      "execution_count": 41,
      "outputs": [
        {
          "output_type": "stream",
          "name": "stdout",
          "text": [
            "DeliveryStatus\n",
            "Delivered    211\n",
            "Pending       31\n",
            "Name: count, dtype: int64\n"
          ]
        }
      ]
    },
    {
      "cell_type": "code",
      "source": [
        "print(df['ShipCountry'].value_counts())"
      ],
      "metadata": {
        "colab": {
          "base_uri": "https://localhost:8080/"
        },
        "id": "R4fYciZqIZSz",
        "outputId": "3c516602-d75c-4615-9f74-f8e6ab572fd3"
      },
      "execution_count": 43,
      "outputs": [
        {
          "output_type": "stream",
          "name": "stdout",
          "text": [
            "ShipCountry\n",
            "Uk           53\n",
            "Usa          49\n",
            "Canada       45\n",
            "Egypt        41\n",
            "Germany      38\n",
            "Palestine    16\n",
            "Name: count, dtype: int64\n"
          ]
        }
      ]
    },
    {
      "cell_type": "code",
      "source": [
        "print(df['ShipCity'].value_counts())"
      ],
      "metadata": {
        "colab": {
          "base_uri": "https://localhost:8080/"
        },
        "id": "IBORlV94ImBi",
        "outputId": "204753a8-5177-4f03-bfab-1738f928beb5"
      },
      "execution_count": 44,
      "outputs": [
        {
          "output_type": "stream",
          "name": "stdout",
          "text": [
            "ShipCity\n",
            "Liverpool      20\n",
            "Montreal       19\n",
            "Giza           18\n",
            "Manchester     17\n",
            "London         15\n",
            "Munich         14\n",
            "Toronto        13\n",
            "Cairo          13\n",
            "Houston        13\n",
            "Chicago        13\n",
            "Hamburg        12\n",
            "Vancouver      12\n",
            "Gaza           12\n",
            "New York       12\n",
            "Los Angeles    11\n",
            "Berlin         11\n",
            "Alexandria      9\n",
            "Unspecified     4\n",
            "Al Quds         4\n",
            "Name: count, dtype: int64\n"
          ]
        }
      ]
    },
    {
      "cell_type": "code",
      "source": [
        "print(df['ShippingCompany'].value_counts().head(3))"
      ],
      "metadata": {
        "colab": {
          "base_uri": "https://localhost:8080/"
        },
        "id": "cHIMp-EDIuPE",
        "outputId": "5289d88c-3056-4547-96ca-38df498e3ad9"
      },
      "execution_count": 46,
      "outputs": [
        {
          "output_type": "stream",
          "name": "stdout",
          "text": [
            "ShippingCompany\n",
            "FedEx Logistics         53\n",
            "DHL Express             52\n",
            "Aramex International    51\n",
            "Name: count, dtype: int64\n"
          ]
        }
      ]
    },
    {
      "cell_type": "code",
      "source": [],
      "metadata": {
        "id": "bi6ePiImI4-3"
      },
      "execution_count": null,
      "outputs": []
    }
  ]
}