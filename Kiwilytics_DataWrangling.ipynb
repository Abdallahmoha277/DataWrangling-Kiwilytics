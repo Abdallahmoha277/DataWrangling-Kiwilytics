{
  "nbformat": 4,
  "nbformat_minor": 0,
  "metadata": {
    "colab": {
      "provenance": [],
      "authorship_tag": "ABX9TyPAWR3EcCt2F7dcQ46FLU0v",
      "include_colab_link": true
    },
    "kernelspec": {
      "name": "python3",
      "display_name": "Python 3"
    },
    "language_info": {
      "name": "python"
    }
  },
  "cells": [
    {
      "cell_type": "markdown",
      "metadata": {
        "id": "view-in-github",
        "colab_type": "text"
      },
      "source": [
        "<a href=\"https://colab.research.google.com/github/Abdallahmoha277/DataWrangling-Kiwilytics/blob/main/Kiwilytics_DataWrangling.ipynb\" target=\"_parent\"><img src=\"https://colab.research.google.com/assets/colab-badge.svg\" alt=\"Open In Colab\"/></a>"
      ]
    },
    {
      "cell_type": "code",
      "source": [
        "import numpy as np\n",
        "b = np.array([[1, 2, 3, 4, 5],[6, 7, 8, 9, 10],[11, 12, 13, 14, 15],[16, 17, 18, 19, 20],[21, 22, 23, 24, 25]])\n",
        "print(b)\n",
        "\n",
        "\n",
        "c=b[2:4,0:2]\n",
        "print(\"\\n\\n\",c)"
      ],
      "metadata": {
        "colab": {
          "base_uri": "https://localhost:8080/"
        },
        "id": "ktZ9xzKiGCEf",
        "outputId": "7199e1d1-0679-4f30-a1d4-945907d61359"
      },
      "execution_count": 1,
      "outputs": [
        {
          "output_type": "stream",
          "name": "stdout",
          "text": [
            "[[ 1  2  3  4  5]\n",
            " [ 6  7  8  9 10]\n",
            " [11 12 13 14 15]\n",
            " [16 17 18 19 20]\n",
            " [21 22 23 24 25]]\n",
            "\n",
            "\n",
            " [[11 12]\n",
            " [16 17]]\n"
          ]
        }
      ]
    },
    {
      "cell_type": "markdown",
      "source": [
        "# New Section"
      ],
      "metadata": {
        "id": "pw-d6e8IKBMy"
      }
    },
    {
      "cell_type": "code",
      "source": [
        "import pandas as pd\n",
        "\n",
        "monthly_Revenue = pd.Series([3000,5000,4500,np.nan,6000], name = 'Revenue')\n",
        "print(monthly_Revenue)"
      ],
      "metadata": {
        "colab": {
          "base_uri": "https://localhost:8080/"
        },
        "id": "I1ZJXr0vKDpJ",
        "outputId": "845187a6-ba54-4e6d-8da1-4513de07bb9d"
      },
      "execution_count": 2,
      "outputs": [
        {
          "output_type": "stream",
          "name": "stdout",
          "text": [
            "0    3000.0\n",
            "1    5000.0\n",
            "2    4500.0\n",
            "3       NaN\n",
            "4    6000.0\n",
            "Name: Revenue, dtype: float64\n"
          ]
        }
      ]
    },
    {
      "cell_type": "code",
      "source": [
        "df = {\n",
        "    'Names' : ['Abdallah','Mohammed','Abdallah','Adam'],\n",
        "    'Comapny' :['Apple','google','Amazon','OpenAi'],\n",
        "    'Years_of_experince' : [9,4,5,6]\n",
        "}\n",
        "df =pd.DataFrame(df)\n",
        "print(df)"
      ],
      "metadata": {
        "colab": {
          "base_uri": "https://localhost:8080/"
        },
        "id": "cr3uN9MCKk0q",
        "outputId": "ecf53fb3-0cde-475b-ffc8-226b1cfd9019"
      },
      "execution_count": 3,
      "outputs": [
        {
          "output_type": "stream",
          "name": "stdout",
          "text": [
            "      Names Comapny  Years_of_experince\n",
            "0  Abdallah   Apple                   9\n",
            "1  Mohammed  google                   4\n",
            "2  Abdallah  Amazon                   5\n",
            "3      Adam  OpenAi                   6\n"
          ]
        }
      ]
    },
    {
      "cell_type": "code",
      "source": [
        "print(df.head(3))\n",
        "print(\"\\n\\n\")\n",
        "print(df.tail(2))\n",
        "print(\"\\n\\n\")"
      ],
      "metadata": {
        "colab": {
          "base_uri": "https://localhost:8080/"
        },
        "id": "vD86WMStLPN5",
        "outputId": "29ddf051-68aa-4c40-f663-05d1d4aaaf1d"
      },
      "execution_count": 4,
      "outputs": [
        {
          "output_type": "stream",
          "name": "stdout",
          "text": [
            "      Names Comapny  Years_of_experince\n",
            "0  Abdallah   Apple                   9\n",
            "1  Mohammed  google                   4\n",
            "2  Abdallah  Amazon                   5\n",
            "\n",
            "\n",
            "\n",
            "      Names Comapny  Years_of_experince\n",
            "2  Abdallah  Amazon                   5\n",
            "3      Adam  OpenAi                   6\n",
            "\n",
            "\n",
            "\n"
          ]
        }
      ]
    },
    {
      "cell_type": "code",
      "source": [
        "print(\"\\n\\n\")\n",
        "print(df.info)\n",
        "print(\"\\n\\n\")\n",
        "df.info()"
      ],
      "metadata": {
        "colab": {
          "base_uri": "https://localhost:8080/"
        },
        "id": "fIyODGyfQyZC",
        "outputId": "de87c632-0641-4f8f-9ebe-9ade04fa38c4"
      },
      "execution_count": 5,
      "outputs": [
        {
          "output_type": "stream",
          "name": "stdout",
          "text": [
            "\n",
            "\n",
            "\n",
            "<bound method DataFrame.info of       Names Comapny  Years_of_experince\n",
            "0  Abdallah   Apple                   9\n",
            "1  Mohammed  google                   4\n",
            "2  Abdallah  Amazon                   5\n",
            "3      Adam  OpenAi                   6>\n",
            "\n",
            "\n",
            "\n",
            "<class 'pandas.core.frame.DataFrame'>\n",
            "RangeIndex: 4 entries, 0 to 3\n",
            "Data columns (total 3 columns):\n",
            " #   Column              Non-Null Count  Dtype \n",
            "---  ------              --------------  ----- \n",
            " 0   Names               4 non-null      object\n",
            " 1   Comapny             4 non-null      object\n",
            " 2   Years_of_experince  4 non-null      int64 \n",
            "dtypes: int64(1), object(2)\n",
            "memory usage: 228.0+ bytes\n"
          ]
        }
      ]
    },
    {
      "cell_type": "code",
      "source": [
        "df.describe()\n"
      ],
      "metadata": {
        "colab": {
          "base_uri": "https://localhost:8080/",
          "height": 300
        },
        "id": "E6rwxF3rSS2-",
        "outputId": "b2781624-a04b-4500-b979-2d679e83fa93"
      },
      "execution_count": 6,
      "outputs": [
        {
          "output_type": "execute_result",
          "data": {
            "text/plain": [
              "       Years_of_experince\n",
              "count            4.000000\n",
              "mean             6.000000\n",
              "std              2.160247\n",
              "min              4.000000\n",
              "25%              4.750000\n",
              "50%              5.500000\n",
              "75%              6.750000\n",
              "max              9.000000"
            ],
            "text/html": [
              "\n",
              "  <div id=\"df-b7fb7301-b73e-43cd-a4ba-2204b7501c23\" class=\"colab-df-container\">\n",
              "    <div>\n",
              "<style scoped>\n",
              "    .dataframe tbody tr th:only-of-type {\n",
              "        vertical-align: middle;\n",
              "    }\n",
              "\n",
              "    .dataframe tbody tr th {\n",
              "        vertical-align: top;\n",
              "    }\n",
              "\n",
              "    .dataframe thead th {\n",
              "        text-align: right;\n",
              "    }\n",
              "</style>\n",
              "<table border=\"1\" class=\"dataframe\">\n",
              "  <thead>\n",
              "    <tr style=\"text-align: right;\">\n",
              "      <th></th>\n",
              "      <th>Years_of_experince</th>\n",
              "    </tr>\n",
              "  </thead>\n",
              "  <tbody>\n",
              "    <tr>\n",
              "      <th>count</th>\n",
              "      <td>4.000000</td>\n",
              "    </tr>\n",
              "    <tr>\n",
              "      <th>mean</th>\n",
              "      <td>6.000000</td>\n",
              "    </tr>\n",
              "    <tr>\n",
              "      <th>std</th>\n",
              "      <td>2.160247</td>\n",
              "    </tr>\n",
              "    <tr>\n",
              "      <th>min</th>\n",
              "      <td>4.000000</td>\n",
              "    </tr>\n",
              "    <tr>\n",
              "      <th>25%</th>\n",
              "      <td>4.750000</td>\n",
              "    </tr>\n",
              "    <tr>\n",
              "      <th>50%</th>\n",
              "      <td>5.500000</td>\n",
              "    </tr>\n",
              "    <tr>\n",
              "      <th>75%</th>\n",
              "      <td>6.750000</td>\n",
              "    </tr>\n",
              "    <tr>\n",
              "      <th>max</th>\n",
              "      <td>9.000000</td>\n",
              "    </tr>\n",
              "  </tbody>\n",
              "</table>\n",
              "</div>\n",
              "    <div class=\"colab-df-buttons\">\n",
              "\n",
              "  <div class=\"colab-df-container\">\n",
              "    <button class=\"colab-df-convert\" onclick=\"convertToInteractive('df-b7fb7301-b73e-43cd-a4ba-2204b7501c23')\"\n",
              "            title=\"Convert this dataframe to an interactive table.\"\n",
              "            style=\"display:none;\">\n",
              "\n",
              "  <svg xmlns=\"http://www.w3.org/2000/svg\" height=\"24px\" viewBox=\"0 -960 960 960\">\n",
              "    <path d=\"M120-120v-720h720v720H120Zm60-500h600v-160H180v160Zm220 220h160v-160H400v160Zm0 220h160v-160H400v160ZM180-400h160v-160H180v160Zm440 0h160v-160H620v160ZM180-180h160v-160H180v160Zm440 0h160v-160H620v160Z\"/>\n",
              "  </svg>\n",
              "    </button>\n",
              "\n",
              "  <style>\n",
              "    .colab-df-container {\n",
              "      display:flex;\n",
              "      gap: 12px;\n",
              "    }\n",
              "\n",
              "    .colab-df-convert {\n",
              "      background-color: #E8F0FE;\n",
              "      border: none;\n",
              "      border-radius: 50%;\n",
              "      cursor: pointer;\n",
              "      display: none;\n",
              "      fill: #1967D2;\n",
              "      height: 32px;\n",
              "      padding: 0 0 0 0;\n",
              "      width: 32px;\n",
              "    }\n",
              "\n",
              "    .colab-df-convert:hover {\n",
              "      background-color: #E2EBFA;\n",
              "      box-shadow: 0px 1px 2px rgba(60, 64, 67, 0.3), 0px 1px 3px 1px rgba(60, 64, 67, 0.15);\n",
              "      fill: #174EA6;\n",
              "    }\n",
              "\n",
              "    .colab-df-buttons div {\n",
              "      margin-bottom: 4px;\n",
              "    }\n",
              "\n",
              "    [theme=dark] .colab-df-convert {\n",
              "      background-color: #3B4455;\n",
              "      fill: #D2E3FC;\n",
              "    }\n",
              "\n",
              "    [theme=dark] .colab-df-convert:hover {\n",
              "      background-color: #434B5C;\n",
              "      box-shadow: 0px 1px 3px 1px rgba(0, 0, 0, 0.15);\n",
              "      filter: drop-shadow(0px 1px 2px rgba(0, 0, 0, 0.3));\n",
              "      fill: #FFFFFF;\n",
              "    }\n",
              "  </style>\n",
              "\n",
              "    <script>\n",
              "      const buttonEl =\n",
              "        document.querySelector('#df-b7fb7301-b73e-43cd-a4ba-2204b7501c23 button.colab-df-convert');\n",
              "      buttonEl.style.display =\n",
              "        google.colab.kernel.accessAllowed ? 'block' : 'none';\n",
              "\n",
              "      async function convertToInteractive(key) {\n",
              "        const element = document.querySelector('#df-b7fb7301-b73e-43cd-a4ba-2204b7501c23');\n",
              "        const dataTable =\n",
              "          await google.colab.kernel.invokeFunction('convertToInteractive',\n",
              "                                                    [key], {});\n",
              "        if (!dataTable) return;\n",
              "\n",
              "        const docLinkHtml = 'Like what you see? Visit the ' +\n",
              "          '<a target=\"_blank\" href=https://colab.research.google.com/notebooks/data_table.ipynb>data table notebook</a>'\n",
              "          + ' to learn more about interactive tables.';\n",
              "        element.innerHTML = '';\n",
              "        dataTable['output_type'] = 'display_data';\n",
              "        await google.colab.output.renderOutput(dataTable, element);\n",
              "        const docLink = document.createElement('div');\n",
              "        docLink.innerHTML = docLinkHtml;\n",
              "        element.appendChild(docLink);\n",
              "      }\n",
              "    </script>\n",
              "  </div>\n",
              "\n",
              "\n",
              "    <div id=\"df-0985b991-bed1-42e4-896c-88c76ad154ea\">\n",
              "      <button class=\"colab-df-quickchart\" onclick=\"quickchart('df-0985b991-bed1-42e4-896c-88c76ad154ea')\"\n",
              "                title=\"Suggest charts\"\n",
              "                style=\"display:none;\">\n",
              "\n",
              "<svg xmlns=\"http://www.w3.org/2000/svg\" height=\"24px\"viewBox=\"0 0 24 24\"\n",
              "     width=\"24px\">\n",
              "    <g>\n",
              "        <path d=\"M19 3H5c-1.1 0-2 .9-2 2v14c0 1.1.9 2 2 2h14c1.1 0 2-.9 2-2V5c0-1.1-.9-2-2-2zM9 17H7v-7h2v7zm4 0h-2V7h2v10zm4 0h-2v-4h2v4z\"/>\n",
              "    </g>\n",
              "</svg>\n",
              "      </button>\n",
              "\n",
              "<style>\n",
              "  .colab-df-quickchart {\n",
              "      --bg-color: #E8F0FE;\n",
              "      --fill-color: #1967D2;\n",
              "      --hover-bg-color: #E2EBFA;\n",
              "      --hover-fill-color: #174EA6;\n",
              "      --disabled-fill-color: #AAA;\n",
              "      --disabled-bg-color: #DDD;\n",
              "  }\n",
              "\n",
              "  [theme=dark] .colab-df-quickchart {\n",
              "      --bg-color: #3B4455;\n",
              "      --fill-color: #D2E3FC;\n",
              "      --hover-bg-color: #434B5C;\n",
              "      --hover-fill-color: #FFFFFF;\n",
              "      --disabled-bg-color: #3B4455;\n",
              "      --disabled-fill-color: #666;\n",
              "  }\n",
              "\n",
              "  .colab-df-quickchart {\n",
              "    background-color: var(--bg-color);\n",
              "    border: none;\n",
              "    border-radius: 50%;\n",
              "    cursor: pointer;\n",
              "    display: none;\n",
              "    fill: var(--fill-color);\n",
              "    height: 32px;\n",
              "    padding: 0;\n",
              "    width: 32px;\n",
              "  }\n",
              "\n",
              "  .colab-df-quickchart:hover {\n",
              "    background-color: var(--hover-bg-color);\n",
              "    box-shadow: 0 1px 2px rgba(60, 64, 67, 0.3), 0 1px 3px 1px rgba(60, 64, 67, 0.15);\n",
              "    fill: var(--button-hover-fill-color);\n",
              "  }\n",
              "\n",
              "  .colab-df-quickchart-complete:disabled,\n",
              "  .colab-df-quickchart-complete:disabled:hover {\n",
              "    background-color: var(--disabled-bg-color);\n",
              "    fill: var(--disabled-fill-color);\n",
              "    box-shadow: none;\n",
              "  }\n",
              "\n",
              "  .colab-df-spinner {\n",
              "    border: 2px solid var(--fill-color);\n",
              "    border-color: transparent;\n",
              "    border-bottom-color: var(--fill-color);\n",
              "    animation:\n",
              "      spin 1s steps(1) infinite;\n",
              "  }\n",
              "\n",
              "  @keyframes spin {\n",
              "    0% {\n",
              "      border-color: transparent;\n",
              "      border-bottom-color: var(--fill-color);\n",
              "      border-left-color: var(--fill-color);\n",
              "    }\n",
              "    20% {\n",
              "      border-color: transparent;\n",
              "      border-left-color: var(--fill-color);\n",
              "      border-top-color: var(--fill-color);\n",
              "    }\n",
              "    30% {\n",
              "      border-color: transparent;\n",
              "      border-left-color: var(--fill-color);\n",
              "      border-top-color: var(--fill-color);\n",
              "      border-right-color: var(--fill-color);\n",
              "    }\n",
              "    40% {\n",
              "      border-color: transparent;\n",
              "      border-right-color: var(--fill-color);\n",
              "      border-top-color: var(--fill-color);\n",
              "    }\n",
              "    60% {\n",
              "      border-color: transparent;\n",
              "      border-right-color: var(--fill-color);\n",
              "    }\n",
              "    80% {\n",
              "      border-color: transparent;\n",
              "      border-right-color: var(--fill-color);\n",
              "      border-bottom-color: var(--fill-color);\n",
              "    }\n",
              "    90% {\n",
              "      border-color: transparent;\n",
              "      border-bottom-color: var(--fill-color);\n",
              "    }\n",
              "  }\n",
              "</style>\n",
              "\n",
              "      <script>\n",
              "        async function quickchart(key) {\n",
              "          const quickchartButtonEl =\n",
              "            document.querySelector('#' + key + ' button');\n",
              "          quickchartButtonEl.disabled = true;  // To prevent multiple clicks.\n",
              "          quickchartButtonEl.classList.add('colab-df-spinner');\n",
              "          try {\n",
              "            const charts = await google.colab.kernel.invokeFunction(\n",
              "                'suggestCharts', [key], {});\n",
              "          } catch (error) {\n",
              "            console.error('Error during call to suggestCharts:', error);\n",
              "          }\n",
              "          quickchartButtonEl.classList.remove('colab-df-spinner');\n",
              "          quickchartButtonEl.classList.add('colab-df-quickchart-complete');\n",
              "        }\n",
              "        (() => {\n",
              "          let quickchartButtonEl =\n",
              "            document.querySelector('#df-0985b991-bed1-42e4-896c-88c76ad154ea button');\n",
              "          quickchartButtonEl.style.display =\n",
              "            google.colab.kernel.accessAllowed ? 'block' : 'none';\n",
              "        })();\n",
              "      </script>\n",
              "    </div>\n",
              "\n",
              "    </div>\n",
              "  </div>\n"
            ],
            "application/vnd.google.colaboratory.intrinsic+json": {
              "type": "dataframe",
              "summary": "{\n  \"name\": \"df\",\n  \"rows\": 8,\n  \"fields\": [\n    {\n      \"column\": \"Years_of_experince\",\n      \"properties\": {\n        \"dtype\": \"number\",\n        \"std\": 2.0652175374397337,\n        \"min\": 2.160246899469287,\n        \"max\": 9.0,\n        \"num_unique_values\": 7,\n        \"samples\": [\n          4.0,\n          6.0,\n          6.75\n        ],\n        \"semantic_type\": \"\",\n        \"description\": \"\"\n      }\n    }\n  ]\n}"
            }
          },
          "metadata": {},
          "execution_count": 6
        }
      ]
    },
    {
      "cell_type": "code",
      "source": [
        "print(df.isna().sum())"
      ],
      "metadata": {
        "colab": {
          "base_uri": "https://localhost:8080/"
        },
        "id": "sAc3aNt2Spo5",
        "outputId": "d5e6ddac-ac13-4526-d1b8-df4f19851092"
      },
      "execution_count": 7,
      "outputs": [
        {
          "output_type": "stream",
          "name": "stdout",
          "text": [
            "Names                 0\n",
            "Comapny               0\n",
            "Years_of_experince    0\n",
            "dtype: int64\n"
          ]
        }
      ]
    },
    {
      "cell_type": "code",
      "source": [
        "print(df.isna())"
      ],
      "metadata": {
        "colab": {
          "base_uri": "https://localhost:8080/"
        },
        "id": "b0CoBSkMTHAr",
        "outputId": "a07ccda5-0866-4ee7-f4ec-229ab7e7e70a"
      },
      "execution_count": 8,
      "outputs": [
        {
          "output_type": "stream",
          "name": "stdout",
          "text": [
            "   Names  Comapny  Years_of_experince\n",
            "0  False    False               False\n",
            "1  False    False               False\n",
            "2  False    False               False\n",
            "3  False    False               False\n"
          ]
        }
      ]
    },
    {
      "cell_type": "code",
      "source": [
        "import numpy as np\n",
        "df.loc[1, 'Years_of_experince' ] = np.nan\n",
        "print(df)\n",
        "print(df.isna().sum())\n",
        "print(df.dropna())"
      ],
      "metadata": {
        "id": "_OIDN3laTpJK",
        "colab": {
          "base_uri": "https://localhost:8080/"
        },
        "outputId": "a4a37ba3-44db-40a6-f007-b1137c0e5404"
      },
      "execution_count": 9,
      "outputs": [
        {
          "output_type": "stream",
          "name": "stdout",
          "text": [
            "      Names Comapny  Years_of_experince\n",
            "0  Abdallah   Apple                 9.0\n",
            "1  Mohammed  google                 NaN\n",
            "2  Abdallah  Amazon                 5.0\n",
            "3      Adam  OpenAi                 6.0\n",
            "Names                 0\n",
            "Comapny               0\n",
            "Years_of_experince    1\n",
            "dtype: int64\n",
            "      Names Comapny  Years_of_experince\n",
            "0  Abdallah   Apple                 9.0\n",
            "2  Abdallah  Amazon                 5.0\n",
            "3      Adam  OpenAi                 6.0\n"
          ]
        }
      ]
    },
    {
      "cell_type": "code",
      "source": [
        "df = {\n",
        "    'Names' : ['Abdallah','Mohammed','Abdallah','Adam'],\n",
        "    'Comapny' :['Apple','google','Amazon','OpenAi'],\n",
        "    'Years_of_experince' : [9,4,5,6]\n",
        "}\n",
        "df =pd.DataFrame(df)\n",
        "print(df)"
      ],
      "metadata": {
        "colab": {
          "base_uri": "https://localhost:8080/"
        },
        "id": "XoUDtMo0zzqa",
        "outputId": "8b404384-1614-4c4b-f421-1d776b459307"
      },
      "execution_count": 10,
      "outputs": [
        {
          "output_type": "stream",
          "name": "stdout",
          "text": [
            "      Names Comapny  Years_of_experince\n",
            "0  Abdallah   Apple                   9\n",
            "1  Mohammed  google                   4\n",
            "2  Abdallah  Amazon                   5\n",
            "3      Adam  OpenAi                   6\n"
          ]
        }
      ]
    },
    {
      "cell_type": "code",
      "source": [
        "print(df[['Names','Comapny']])\n",
        "print(\"\\n\\n\",df.iloc[2])"
      ],
      "metadata": {
        "colab": {
          "base_uri": "https://localhost:8080/"
        },
        "id": "zWf1MIsA1sVs",
        "outputId": "45af073f-f514-42e7-af0b-9eea7acec137"
      },
      "execution_count": 11,
      "outputs": [
        {
          "output_type": "stream",
          "name": "stdout",
          "text": [
            "      Names Comapny\n",
            "0  Abdallah   Apple\n",
            "1  Mohammed  google\n",
            "2  Abdallah  Amazon\n",
            "3      Adam  OpenAi\n",
            "\n",
            "\n",
            " Names                 Abdallah\n",
            "Comapny                 Amazon\n",
            "Years_of_experince           5\n",
            "Name: 2, dtype: object\n"
          ]
        }
      ]
    },
    {
      "cell_type": "code",
      "source": [
        "import pandas as pd\n",
        "\n",
        "data = {\n",
        "    \"Name\": [\"Ali\", \"Sara\", \"Omar\"],\n",
        "    \"Age\": [23, 21, 25]\n",
        "}\n",
        "\n",
        "# نغير الـ index لأسامي نصية\n",
        "data = pd.DataFrame(data, index=[\"i love Melbourne\", \"student_2\", \"student_3\"])\n",
        "print(data)\n",
        "\n",
        "\n",
        "print(data.loc[\"i love Melbourne\"])\n",
        "\n",
        "\n"
      ],
      "metadata": {
        "colab": {
          "base_uri": "https://localhost:8080/"
        },
        "id": "FlTbAthy2VWu",
        "outputId": "3a601cfd-8f43-405f-f9c8-c6db9ee42cc0"
      },
      "execution_count": 12,
      "outputs": [
        {
          "output_type": "stream",
          "name": "stdout",
          "text": [
            "                  Name  Age\n",
            "i love Melbourne   Ali   23\n",
            "student_2         Sara   21\n",
            "student_3         Omar   25\n",
            "Name    Ali\n",
            "Age      23\n",
            "Name: i love Melbourne, dtype: object\n"
          ]
        }
      ]
    },
    {
      "cell_type": "code",
      "source": [
        "print(df[df['Years_of_experince'] > 5])"
      ],
      "metadata": {
        "colab": {
          "base_uri": "https://localhost:8080/"
        },
        "id": "uSS2RGPp5J6e",
        "outputId": "648145cc-a323-41e6-d9e4-472fde01cf27"
      },
      "execution_count": 13,
      "outputs": [
        {
          "output_type": "stream",
          "name": "stdout",
          "text": [
            "      Names Comapny  Years_of_experince\n",
            "0  Abdallah   Apple                   9\n",
            "3      Adam  OpenAi                   6\n"
          ]
        }
      ]
    },
    {
      "cell_type": "code",
      "source": [
        "print(df[df['Comapny']=='Apple'])"
      ],
      "metadata": {
        "colab": {
          "base_uri": "https://localhost:8080/"
        },
        "id": "ODuxNoKTDCUx",
        "outputId": "a274e945-8055-4ec7-92e9-4329aea621ce"
      },
      "execution_count": 14,
      "outputs": [
        {
          "output_type": "stream",
          "name": "stdout",
          "text": [
            "      Names Comapny  Years_of_experince\n",
            "0  Abdallah   Apple                   9\n"
          ]
        }
      ]
    },
    {
      "cell_type": "code",
      "source": [
        "df['Comapny'] = df['Comapny'].str.lower()\n",
        "print(df)\n"
      ],
      "metadata": {
        "colab": {
          "base_uri": "https://localhost:8080/"
        },
        "id": "mhBDsH_jDh4x",
        "outputId": "a447b08d-4211-472b-9a9d-c83c995213fb"
      },
      "execution_count": 15,
      "outputs": [
        {
          "output_type": "stream",
          "name": "stdout",
          "text": [
            "      Names Comapny  Years_of_experince\n",
            "0  Abdallah   apple                   9\n",
            "1  Mohammed  google                   4\n",
            "2  Abdallah  amazon                   5\n",
            "3      Adam  openai                   6\n"
          ]
        }
      ]
    },
    {
      "cell_type": "code",
      "source": [
        "df['Is_Very_Seior'] = df['Years_of_experince'] >=5\n",
        "print(df)"
      ],
      "metadata": {
        "colab": {
          "base_uri": "https://localhost:8080/"
        },
        "id": "NAAmtG1eKaId",
        "outputId": "2d21572f-357c-4d75-858c-969daa0160ae"
      },
      "execution_count": 16,
      "outputs": [
        {
          "output_type": "stream",
          "name": "stdout",
          "text": [
            "      Names Comapny  Years_of_experince  Is_Very_Seior\n",
            "0  Abdallah   apple                   9           True\n",
            "1  Mohammed  google                   4          False\n",
            "2  Abdallah  amazon                   5           True\n",
            "3      Adam  openai                   6           True\n"
          ]
        }
      ]
    },
    {
      "cell_type": "code",
      "source": [
        "from os import pidfd_open\n",
        "df_project = pd.DataFrame({\n",
        "    'Client' : ['Kiwilytics', 'PwC', 'EY', 'KPMG', 'McKinsey'],\n",
        "    'Budget_kUSD': [120, 200, np.nan, 150, None]\n",
        "})\n",
        "\n",
        "print(df_project,'\\n\\n')\n",
        "\n",
        "mean_budget = df_project['Budget_kUSD'].mean()\n",
        "print(mean_budget)\n",
        "\n",
        "df_project['Budget_kUSD'] = df_project['Budget_kUSD'].fillna(mean_budget)\n",
        "\n",
        "print(df_project)\n"
      ],
      "metadata": {
        "colab": {
          "base_uri": "https://localhost:8080/"
        },
        "id": "e3nXj5BFWg0X",
        "outputId": "f654b8a9-db2d-4c50-8c85-7a3dc0b5bc34"
      },
      "execution_count": 17,
      "outputs": [
        {
          "output_type": "stream",
          "name": "stdout",
          "text": [
            "       Client  Budget_kUSD\n",
            "0  Kiwilytics        120.0\n",
            "1         PwC        200.0\n",
            "2          EY          NaN\n",
            "3        KPMG        150.0\n",
            "4    McKinsey          NaN \n",
            "\n",
            "\n",
            "156.66666666666666\n",
            "       Client  Budget_kUSD\n",
            "0  Kiwilytics   120.000000\n",
            "1         PwC   200.000000\n",
            "2          EY   156.666667\n",
            "3        KPMG   150.000000\n",
            "4    McKinsey   156.666667\n"
          ]
        }
      ]
    },
    {
      "cell_type": "code",
      "source": [
        "# Revenue per company per quarter\n",
        "df_revenue = pd.DataFrame({\n",
        "    'Company': ['Kiwilytics', 'PwC', 'EY', 'KPMG', 'Kiwilytics', 'PwC'],\n",
        "    'Quarter': ['Q1', 'Q1', 'Q1', 'Q1', 'Q2', 'Q2'],\n",
        "    'Revenue_kUSD': [120, 200, 180, 150, 130, 210]\n",
        "})\n",
        "\n",
        "print(df_revenue)\n",
        "\n"
      ],
      "metadata": {
        "colab": {
          "base_uri": "https://localhost:8080/"
        },
        "id": "lN6lE0BTYxXD",
        "outputId": "9f84bb1d-5bea-4624-9fbb-febe2e203548"
      },
      "execution_count": 18,
      "outputs": [
        {
          "output_type": "stream",
          "name": "stdout",
          "text": [
            "      Company Quarter  Revenue_kUSD\n",
            "0  Kiwilytics      Q1           120\n",
            "1         PwC      Q1           200\n",
            "2          EY      Q1           180\n",
            "3        KPMG      Q1           150\n",
            "4  Kiwilytics      Q2           130\n",
            "5         PwC      Q2           210\n"
          ]
        }
      ]
    },
    {
      "cell_type": "code",
      "source": [
        "grouped = df_revenue.groupby('Company')['Revenue_kUSD'].sum()\n",
        "print(grouped)"
      ],
      "metadata": {
        "colab": {
          "base_uri": "https://localhost:8080/"
        },
        "id": "1BRz5ICHbOPj",
        "outputId": "d4d47ad3-3b22-4d2e-df3c-090ae2953170"
      },
      "execution_count": 19,
      "outputs": [
        {
          "output_type": "stream",
          "name": "stdout",
          "text": [
            "Company\n",
            "EY            180\n",
            "KPMG          150\n",
            "Kiwilytics    250\n",
            "PwC           410\n",
            "Name: Revenue_kUSD, dtype: int64\n"
          ]
        }
      ]
    },
    {
      "cell_type": "code",
      "source": [
        "import pandas as pd\n",
        "df_managers = pd.DataFrame({\n",
        "    'ManagerId': [1, 2, 3],\n",
        "    'Name': ['Ibrahim', 'Maher', 'Abdelrahman']\n",
        "})\n",
        "\n",
        "df_projects = pd.DataFrame({\n",
        "    'ProjectId' : [101,102,103],\n",
        "    'ManagerId' : [1,2,2,],\n",
        "    'Clients '  :  ['Kiwilytics', 'PwC', 'EY']\n",
        "})\n",
        "\n",
        "merged_df = pd.merge(df_managers, df_projects, on='ManagerId', how='inner')\n",
        "print(merged_df)"
      ],
      "metadata": {
        "id": "xHDrTN1YboNq",
        "colab": {
          "base_uri": "https://localhost:8080/"
        },
        "outputId": "e556b88a-499e-4fd7-fdd5-d8df7f0133d2"
      },
      "execution_count": 20,
      "outputs": [
        {
          "output_type": "stream",
          "name": "stdout",
          "text": [
            "   ManagerId     Name  ProjectId    Clients \n",
            "0          1  Ibrahim        101  Kiwilytics\n",
            "1          2    Maher        102         PwC\n",
            "2          2    Maher        103          EY\n"
          ]
        }
      ]
    },
    {
      "cell_type": "code",
      "source": [
        "from google.colab import files\n",
        "uploaded = files.upload()\n"
      ],
      "metadata": {
        "colab": {
          "base_uri": "https://localhost:8080/",
          "height": 73
        },
        "id": "MNWQZ0lpmGBk",
        "outputId": "4f2330d7-c099-4466-9817-eb4f78c308a9"
      },
      "execution_count": 21,
      "outputs": [
        {
          "output_type": "display_data",
          "data": {
            "text/plain": [
              "<IPython.core.display.HTML object>"
            ],
            "text/html": [
              "\n",
              "     <input type=\"file\" id=\"files-bf27d470-1352-4b28-9477-0f3ed5674bcd\" name=\"files[]\" multiple disabled\n",
              "        style=\"border:none\" />\n",
              "     <output id=\"result-bf27d470-1352-4b28-9477-0f3ed5674bcd\">\n",
              "      Upload widget is only available when the cell has been executed in the\n",
              "      current browser session. Please rerun this cell to enable.\n",
              "      </output>\n",
              "      <script>// Copyright 2017 Google LLC\n",
              "//\n",
              "// Licensed under the Apache License, Version 2.0 (the \"License\");\n",
              "// you may not use this file except in compliance with the License.\n",
              "// You may obtain a copy of the License at\n",
              "//\n",
              "//      http://www.apache.org/licenses/LICENSE-2.0\n",
              "//\n",
              "// Unless required by applicable law or agreed to in writing, software\n",
              "// distributed under the License is distributed on an \"AS IS\" BASIS,\n",
              "// WITHOUT WARRANTIES OR CONDITIONS OF ANY KIND, either express or implied.\n",
              "// See the License for the specific language governing permissions and\n",
              "// limitations under the License.\n",
              "\n",
              "/**\n",
              " * @fileoverview Helpers for google.colab Python module.\n",
              " */\n",
              "(function(scope) {\n",
              "function span(text, styleAttributes = {}) {\n",
              "  const element = document.createElement('span');\n",
              "  element.textContent = text;\n",
              "  for (const key of Object.keys(styleAttributes)) {\n",
              "    element.style[key] = styleAttributes[key];\n",
              "  }\n",
              "  return element;\n",
              "}\n",
              "\n",
              "// Max number of bytes which will be uploaded at a time.\n",
              "const MAX_PAYLOAD_SIZE = 100 * 1024;\n",
              "\n",
              "function _uploadFiles(inputId, outputId) {\n",
              "  const steps = uploadFilesStep(inputId, outputId);\n",
              "  const outputElement = document.getElementById(outputId);\n",
              "  // Cache steps on the outputElement to make it available for the next call\n",
              "  // to uploadFilesContinue from Python.\n",
              "  outputElement.steps = steps;\n",
              "\n",
              "  return _uploadFilesContinue(outputId);\n",
              "}\n",
              "\n",
              "// This is roughly an async generator (not supported in the browser yet),\n",
              "// where there are multiple asynchronous steps and the Python side is going\n",
              "// to poll for completion of each step.\n",
              "// This uses a Promise to block the python side on completion of each step,\n",
              "// then passes the result of the previous step as the input to the next step.\n",
              "function _uploadFilesContinue(outputId) {\n",
              "  const outputElement = document.getElementById(outputId);\n",
              "  const steps = outputElement.steps;\n",
              "\n",
              "  const next = steps.next(outputElement.lastPromiseValue);\n",
              "  return Promise.resolve(next.value.promise).then((value) => {\n",
              "    // Cache the last promise value to make it available to the next\n",
              "    // step of the generator.\n",
              "    outputElement.lastPromiseValue = value;\n",
              "    return next.value.response;\n",
              "  });\n",
              "}\n",
              "\n",
              "/**\n",
              " * Generator function which is called between each async step of the upload\n",
              " * process.\n",
              " * @param {string} inputId Element ID of the input file picker element.\n",
              " * @param {string} outputId Element ID of the output display.\n",
              " * @return {!Iterable<!Object>} Iterable of next steps.\n",
              " */\n",
              "function* uploadFilesStep(inputId, outputId) {\n",
              "  const inputElement = document.getElementById(inputId);\n",
              "  inputElement.disabled = false;\n",
              "\n",
              "  const outputElement = document.getElementById(outputId);\n",
              "  outputElement.innerHTML = '';\n",
              "\n",
              "  const pickedPromise = new Promise((resolve) => {\n",
              "    inputElement.addEventListener('change', (e) => {\n",
              "      resolve(e.target.files);\n",
              "    });\n",
              "  });\n",
              "\n",
              "  const cancel = document.createElement('button');\n",
              "  inputElement.parentElement.appendChild(cancel);\n",
              "  cancel.textContent = 'Cancel upload';\n",
              "  const cancelPromise = new Promise((resolve) => {\n",
              "    cancel.onclick = () => {\n",
              "      resolve(null);\n",
              "    };\n",
              "  });\n",
              "\n",
              "  // Wait for the user to pick the files.\n",
              "  const files = yield {\n",
              "    promise: Promise.race([pickedPromise, cancelPromise]),\n",
              "    response: {\n",
              "      action: 'starting',\n",
              "    }\n",
              "  };\n",
              "\n",
              "  cancel.remove();\n",
              "\n",
              "  // Disable the input element since further picks are not allowed.\n",
              "  inputElement.disabled = true;\n",
              "\n",
              "  if (!files) {\n",
              "    return {\n",
              "      response: {\n",
              "        action: 'complete',\n",
              "      }\n",
              "    };\n",
              "  }\n",
              "\n",
              "  for (const file of files) {\n",
              "    const li = document.createElement('li');\n",
              "    li.append(span(file.name, {fontWeight: 'bold'}));\n",
              "    li.append(span(\n",
              "        `(${file.type || 'n/a'}) - ${file.size} bytes, ` +\n",
              "        `last modified: ${\n",
              "            file.lastModifiedDate ? file.lastModifiedDate.toLocaleDateString() :\n",
              "                                    'n/a'} - `));\n",
              "    const percent = span('0% done');\n",
              "    li.appendChild(percent);\n",
              "\n",
              "    outputElement.appendChild(li);\n",
              "\n",
              "    const fileDataPromise = new Promise((resolve) => {\n",
              "      const reader = new FileReader();\n",
              "      reader.onload = (e) => {\n",
              "        resolve(e.target.result);\n",
              "      };\n",
              "      reader.readAsArrayBuffer(file);\n",
              "    });\n",
              "    // Wait for the data to be ready.\n",
              "    let fileData = yield {\n",
              "      promise: fileDataPromise,\n",
              "      response: {\n",
              "        action: 'continue',\n",
              "      }\n",
              "    };\n",
              "\n",
              "    // Use a chunked sending to avoid message size limits. See b/62115660.\n",
              "    let position = 0;\n",
              "    do {\n",
              "      const length = Math.min(fileData.byteLength - position, MAX_PAYLOAD_SIZE);\n",
              "      const chunk = new Uint8Array(fileData, position, length);\n",
              "      position += length;\n",
              "\n",
              "      const base64 = btoa(String.fromCharCode.apply(null, chunk));\n",
              "      yield {\n",
              "        response: {\n",
              "          action: 'append',\n",
              "          file: file.name,\n",
              "          data: base64,\n",
              "        },\n",
              "      };\n",
              "\n",
              "      let percentDone = fileData.byteLength === 0 ?\n",
              "          100 :\n",
              "          Math.round((position / fileData.byteLength) * 100);\n",
              "      percent.textContent = `${percentDone}% done`;\n",
              "\n",
              "    } while (position < fileData.byteLength);\n",
              "  }\n",
              "\n",
              "  // All done.\n",
              "  yield {\n",
              "    response: {\n",
              "      action: 'complete',\n",
              "    }\n",
              "  };\n",
              "}\n",
              "\n",
              "scope.google = scope.google || {};\n",
              "scope.google.colab = scope.google.colab || {};\n",
              "scope.google.colab._files = {\n",
              "  _uploadFiles,\n",
              "  _uploadFilesContinue,\n",
              "};\n",
              "})(self);\n",
              "</script> "
            ]
          },
          "metadata": {}
        },
        {
          "output_type": "stream",
          "name": "stdout",
          "text": [
            "Saving Orders_with_issues1.csv to Orders_with_issues1.csv\n"
          ]
        }
      ]
    },
    {
      "cell_type": "code",
      "source": [
        "import pandas as pd\n",
        "import numpy as np\n",
        "\n",
        "df = pd.read_csv(\"Orders_with_issues1.csv\")\n",
        "print(df.head())"
      ],
      "metadata": {
        "colab": {
          "base_uri": "https://localhost:8080/"
        },
        "id": "EHZ0RYtcooZV",
        "outputId": "3b3527af-7288-4039-b885-17c4dbbda1a2"
      },
      "execution_count": 22,
      "outputs": [
        {
          "output_type": "stream",
          "name": "stdout",
          "text": [
            "   OrderID CustomerID   OrderDate ShippedDate        ShippingCost ShipCountry  \\\n",
            "0   1000.0       C001  2025-05-17  2025-07-30  -57.25454602444980     Germany   \n",
            "1   1001.0       C002  2025-01-26  2025-07-30              320.61      Canada   \n",
            "2   1002.0       C003  2025-03-08  2025-07-30              165.17      Canada   \n",
            "3   1003.0       C004  2025-03-24  2025-07-30               12.55     Germany   \n",
            "4   1004.0       C005  2025-04-15  2025-07-30              186.36      Canada   \n",
            "\n",
            "    ShipCity                 ShippingCompany  \n",
            "0    Hamburg  Kiwilytics Goods Shipping LLC.  \n",
            "1   Montreal                   UPS Worldwide  \n",
            "2  Vancouver                 FedEx Logistics  \n",
            "3     Munich            Aramex International  \n",
            "4  Vancouver                 FedEx Logistics  \n"
          ]
        }
      ]
    },
    {
      "cell_type": "code",
      "source": [
        "\n",
        "df = pd.read_csv(\"Orders_with_issues1.csv\")\n",
        "print(df.info(100))"
      ],
      "metadata": {
        "colab": {
          "base_uri": "https://localhost:8080/"
        },
        "id": "UglVa8VEszIS",
        "outputId": "01d2610b-dea7-4050-d30c-0f691bb1eaf9"
      },
      "execution_count": 23,
      "outputs": [
        {
          "output_type": "stream",
          "name": "stdout",
          "text": [
            "<class 'pandas.core.frame.DataFrame'>\n",
            "RangeIndex: 245 entries, 0 to 244\n",
            "Data columns (total 8 columns):\n",
            " #   Column           Non-Null Count  Dtype  \n",
            "---  ------           --------------  -----  \n",
            " 0   OrderID          239 non-null    float64\n",
            " 1   CustomerID       240 non-null    object \n",
            " 2   OrderDate        237 non-null    object \n",
            " 3   ShippedDate      219 non-null    object \n",
            " 4   ShippingCost     231 non-null    object \n",
            " 5   ShipCountry      245 non-null    object \n",
            " 6   ShipCity         241 non-null    object \n",
            " 7   ShippingCompany  245 non-null    object \n",
            "dtypes: float64(1), object(7)\n",
            "memory usage: 15.4+ KB\n",
            "None\n"
          ]
        }
      ]
    },
    {
      "cell_type": "code",
      "source": [
        "print(df.isna().sum())"
      ],
      "metadata": {
        "colab": {
          "base_uri": "https://localhost:8080/"
        },
        "id": "LBGT8HE_s64x",
        "outputId": "df62319a-c250-424a-ab6f-033291d4d513"
      },
      "execution_count": 24,
      "outputs": [
        {
          "output_type": "stream",
          "name": "stdout",
          "text": [
            "OrderID             6\n",
            "CustomerID          5\n",
            "OrderDate           8\n",
            "ShippedDate        26\n",
            "ShippingCost       14\n",
            "ShipCountry         0\n",
            "ShipCity            4\n",
            "ShippingCompany     0\n",
            "dtype: int64\n"
          ]
        }
      ]
    },
    {
      "cell_type": "code",
      "source": [
        "print(df['ShippingCompany'].value_counts())"
      ],
      "metadata": {
        "colab": {
          "base_uri": "https://localhost:8080/"
        },
        "id": "wRS1KNiUu_SN",
        "outputId": "b4df92f3-b9b5-4dfa-a7e8-223cfdbf6749"
      },
      "execution_count": 25,
      "outputs": [
        {
          "output_type": "stream",
          "name": "stdout",
          "text": [
            "ShippingCompany\n",
            "FedEx Logistics                   54\n",
            "DHL Express                       53\n",
            "Aramex International              51\n",
            "UPS Worldwide                     46\n",
            "Kiwilytics Goods Shipping LLC.    41\n",
            "Name: count, dtype: int64\n"
          ]
        }
      ]
    },
    {
      "cell_type": "code",
      "source": [
        "df['OrderDate'] = pd.to_datetime(df['OrderDate'], errors='coerce')\n",
        "df['ShippedDate'] = pd.to_datetime(df['ShippedDate'], errors='coerce')\n",
        "df['ShippingCost'] = pd.to_numeric(df['ShippingCost'], errors='coerce')\n",
        "df.loc[df.ShippingCost < 0, 'ShippingCost'] = np.nan\n",
        "df=df[~(df['OrderDate'].isna() & df['ShippedDate'].isna())]"
      ],
      "metadata": {
        "id": "fESnpTZ6wEAt"
      },
      "execution_count": 26,
      "outputs": []
    },
    {
      "cell_type": "code",
      "source": [
        "df['OrderDate'] = df['OrderDate'].fillna(method='ffill')\n",
        "df['CustomerID'] = df['CustomerID'].fillna(\"Unknown\")\n",
        "df['ShipCity'] = df['ShipCity'].fillna(\"Unspecified\")"
      ],
      "metadata": {
        "colab": {
          "base_uri": "https://localhost:8080/"
        },
        "collapsed": true,
        "id": "ZDeiJGvJtptw",
        "outputId": "d41d293f-8f96-494e-cbd1-d748da9670a1"
      },
      "execution_count": 27,
      "outputs": [
        {
          "output_type": "stream",
          "name": "stderr",
          "text": [
            "/tmp/ipython-input-1045331880.py:1: FutureWarning: Series.fillna with 'method' is deprecated and will raise in a future version. Use obj.ffill() or obj.bfill() instead.\n",
            "  df['OrderDate'] = df['OrderDate'].fillna(method='ffill')\n"
          ]
        }
      ]
    },
    {
      "cell_type": "code",
      "source": [
        "df['ShipCountry'] = df['ShipCountry'].str.strip().str.title()\n",
        "df['ShipCity'] = df['ShipCity'].str.strip().str.title()\n",
        "df['ShippingCompany'] = df['ShippingCompany'].str.strip()"
      ],
      "metadata": {
        "id": "JoQgoKKXzt5w"
      },
      "execution_count": 28,
      "outputs": []
    },
    {
      "cell_type": "code",
      "source": [
        "df.loc[df['ShippingCompany'].str.contains(\"Kiwilytics\", na=False), 'ShippingCompany'] = \"Kiwilytics Goods Shipping LLC\""
      ],
      "metadata": {
        "id": "nVFZf71F1eh2"
      },
      "execution_count": 29,
      "outputs": []
    },
    {
      "cell_type": "code",
      "source": [
        "df['DeliveryDays'] = df['ShippedDate'] - df['OrderDate']"
      ],
      "metadata": {
        "id": "pDrX4Wl12DID"
      },
      "execution_count": 30,
      "outputs": []
    },
    {
      "cell_type": "code",
      "source": [
        "avg_Shipping_by_company = df.groupby('ShippingCompany')['ShippingCost'].mean()\n",
        "print(avg_Shipping_by_company)"
      ],
      "metadata": {
        "colab": {
          "base_uri": "https://localhost:8080/"
        },
        "id": "6J3AK9Oh3LbK",
        "outputId": "b4fae99e-a016-4f12-ae3e-62dd868780ee"
      },
      "execution_count": 31,
      "outputs": [
        {
          "output_type": "stream",
          "name": "stdout",
          "text": [
            "ShippingCompany\n",
            "Aramex International             258.805111\n",
            "DHL Express                      227.237778\n",
            "FedEx Logistics                  229.768235\n",
            "Kiwilytics Goods Shipping LLC    245.112162\n",
            "UPS Worldwide                    261.228571\n",
            "Name: ShippingCost, dtype: float64\n"
          ]
        }
      ]
    },
    {
      "cell_type": "code",
      "source": [
        "df.to_csv('cleaned_file.csv',index = False)"
      ],
      "metadata": {
        "id": "ofbcCGxn4Ueh"
      },
      "execution_count": 32,
      "outputs": []
    },
    {
      "cell_type": "code",
      "source": [
        "print(df.head())"
      ],
      "metadata": {
        "colab": {
          "base_uri": "https://localhost:8080/"
        },
        "id": "aGNgns7G5ZGE",
        "outputId": "158d2fee-8971-4536-86f1-767c5cd98ace"
      },
      "execution_count": 33,
      "outputs": [
        {
          "output_type": "stream",
          "name": "stdout",
          "text": [
            "   OrderID CustomerID  OrderDate ShippedDate  ShippingCost ShipCountry  \\\n",
            "0   1000.0       C001 2025-05-17  2025-07-30           NaN     Germany   \n",
            "1   1001.0       C002 2025-01-26  2025-07-30        320.61      Canada   \n",
            "2   1002.0       C003 2025-03-08  2025-07-30        165.17      Canada   \n",
            "3   1003.0       C004 2025-03-24  2025-07-30         12.55     Germany   \n",
            "4   1004.0       C005 2025-04-15  2025-07-30        186.36      Canada   \n",
            "\n",
            "    ShipCity                ShippingCompany DeliveryDays  \n",
            "0    Hamburg  Kiwilytics Goods Shipping LLC      74 days  \n",
            "1   Montreal                  UPS Worldwide     185 days  \n",
            "2  Vancouver                FedEx Logistics     144 days  \n",
            "3     Munich           Aramex International     128 days  \n",
            "4  Vancouver                FedEx Logistics     106 days  \n"
          ]
        }
      ]
    },
    {
      "cell_type": "code",
      "source": [
        "df['DeliveryStatus'] = df['ShippedDate'].apply(lambda x: 'Delivered' if pd.notna(x) else 'Pending')\n",
        "print(df['DeliveryStatus'].value_counts())\n",
        "\n",
        "print(df['DeliveryStatus'].value_counts())"
      ],
      "metadata": {
        "colab": {
          "base_uri": "https://localhost:8080/"
        },
        "id": "yI3ST2NI5mQi",
        "outputId": "ae971841-638c-42cf-b4f7-2289719908cb"
      },
      "execution_count": 34,
      "outputs": [
        {
          "output_type": "stream",
          "name": "stdout",
          "text": [
            "DeliveryStatus\n",
            "Delivered    211\n",
            "Pending       31\n",
            "Name: count, dtype: int64\n",
            "DeliveryStatus\n",
            "Delivered    211\n",
            "Pending       31\n",
            "Name: count, dtype: int64\n"
          ]
        }
      ]
    },
    {
      "cell_type": "code",
      "source": [
        "print(df.columns)\n"
      ],
      "metadata": {
        "colab": {
          "base_uri": "https://localhost:8080/"
        },
        "id": "3ZoneMgs6MU0",
        "outputId": "79c1d892-2b4c-489e-9c5a-df4137e86994"
      },
      "execution_count": 35,
      "outputs": [
        {
          "output_type": "stream",
          "name": "stdout",
          "text": [
            "Index(['OrderID', 'CustomerID', 'OrderDate', 'ShippedDate', 'ShippingCost',\n",
            "       'ShipCountry', 'ShipCity', 'ShippingCompany', 'DeliveryDays',\n",
            "       'DeliveryStatus'],\n",
            "      dtype='object')\n"
          ]
        }
      ]
    },
    {
      "cell_type": "code",
      "source": [
        "df.to_csv(\"Cleaned_orders_final.csv\",index=False)\n",
        "\n",
        "print(df.head())\n",
        "\n"
      ],
      "metadata": {
        "id": "4tSktF_p6mwA",
        "colab": {
          "base_uri": "https://localhost:8080/"
        },
        "outputId": "48267921-371e-4186-f8e9-b97fba0ab2c1"
      },
      "execution_count": 36,
      "outputs": [
        {
          "output_type": "stream",
          "name": "stdout",
          "text": [
            "   OrderID CustomerID  OrderDate ShippedDate  ShippingCost ShipCountry  \\\n",
            "0   1000.0       C001 2025-05-17  2025-07-30           NaN     Germany   \n",
            "1   1001.0       C002 2025-01-26  2025-07-30        320.61      Canada   \n",
            "2   1002.0       C003 2025-03-08  2025-07-30        165.17      Canada   \n",
            "3   1003.0       C004 2025-03-24  2025-07-30         12.55     Germany   \n",
            "4   1004.0       C005 2025-04-15  2025-07-30        186.36      Canada   \n",
            "\n",
            "    ShipCity                ShippingCompany DeliveryDays DeliveryStatus  \n",
            "0    Hamburg  Kiwilytics Goods Shipping LLC      74 days      Delivered  \n",
            "1   Montreal                  UPS Worldwide     185 days      Delivered  \n",
            "2  Vancouver                FedEx Logistics     144 days      Delivered  \n",
            "3     Munich           Aramex International     128 days      Delivered  \n",
            "4  Vancouver                FedEx Logistics     106 days      Delivered  \n"
          ]
        }
      ]
    },
    {
      "cell_type": "code",
      "source": [
        "print(df['DeliveryStatus'].value_counts())"
      ],
      "metadata": {
        "colab": {
          "base_uri": "https://localhost:8080/"
        },
        "id": "0pVtv8w-IRqi",
        "outputId": "d92ffb51-b091-4cbb-821e-4f875e4ed53e"
      },
      "execution_count": 37,
      "outputs": [
        {
          "output_type": "stream",
          "name": "stdout",
          "text": [
            "DeliveryStatus\n",
            "Delivered    211\n",
            "Pending       31\n",
            "Name: count, dtype: int64\n"
          ]
        }
      ]
    },
    {
      "cell_type": "code",
      "source": [
        "print(df['ShipCountry'].value_counts())"
      ],
      "metadata": {
        "colab": {
          "base_uri": "https://localhost:8080/"
        },
        "id": "R4fYciZqIZSz",
        "outputId": "986cb19e-4f45-46d5-d6e0-f61b72d3031d"
      },
      "execution_count": 38,
      "outputs": [
        {
          "output_type": "stream",
          "name": "stdout",
          "text": [
            "ShipCountry\n",
            "Uk           53\n",
            "Usa          49\n",
            "Canada       45\n",
            "Egypt        41\n",
            "Germany      38\n",
            "Palestine    16\n",
            "Name: count, dtype: int64\n"
          ]
        }
      ]
    },
    {
      "cell_type": "code",
      "source": [
        "print(df['ShipCity'].value_counts())"
      ],
      "metadata": {
        "colab": {
          "base_uri": "https://localhost:8080/"
        },
        "id": "IBORlV94ImBi",
        "outputId": "761b1029-08f0-4303-9eab-555039bc0a43"
      },
      "execution_count": 39,
      "outputs": [
        {
          "output_type": "stream",
          "name": "stdout",
          "text": [
            "ShipCity\n",
            "Liverpool      20\n",
            "Montreal       19\n",
            "Giza           18\n",
            "Manchester     17\n",
            "London         15\n",
            "Munich         14\n",
            "Toronto        13\n",
            "Cairo          13\n",
            "Houston        13\n",
            "Chicago        13\n",
            "Hamburg        12\n",
            "Vancouver      12\n",
            "Gaza           12\n",
            "New York       12\n",
            "Los Angeles    11\n",
            "Berlin         11\n",
            "Alexandria      9\n",
            "Unspecified     4\n",
            "Al Quds         4\n",
            "Name: count, dtype: int64\n"
          ]
        }
      ]
    },
    {
      "cell_type": "code",
      "source": [
        "print(df['ShippingCompany'].value_counts().head(3))"
      ],
      "metadata": {
        "colab": {
          "base_uri": "https://localhost:8080/"
        },
        "id": "cHIMp-EDIuPE",
        "outputId": "9bb8a624-a2c2-4238-c968-899b09fb55e1"
      },
      "execution_count": 40,
      "outputs": [
        {
          "output_type": "stream",
          "name": "stdout",
          "text": [
            "ShippingCompany\n",
            "FedEx Logistics         53\n",
            "DHL Express             52\n",
            "Aramex International    51\n",
            "Name: count, dtype: int64\n"
          ]
        }
      ]
    },
    {
      "cell_type": "code",
      "source": [
        "# Load the cleaned orders data\n",
        "df = pd.read_csv(\"Cleaned_orders_final.csv\")\n",
        "df.head(3)"
      ],
      "metadata": {
        "id": "bi6ePiImI4-3",
        "outputId": "458d7be5-4b0a-4a1c-ef53-d8b7a12a5235",
        "colab": {
          "base_uri": "https://localhost:8080/",
          "height": 143
        }
      },
      "execution_count": 41,
      "outputs": [
        {
          "output_type": "execute_result",
          "data": {
            "text/plain": [
              "   OrderID CustomerID   OrderDate ShippedDate  ShippingCost ShipCountry  \\\n",
              "0   1000.0       C001  2025-05-17  2025-07-30           NaN     Germany   \n",
              "1   1001.0       C002  2025-01-26  2025-07-30        320.61      Canada   \n",
              "2   1002.0       C003  2025-03-08  2025-07-30        165.17      Canada   \n",
              "\n",
              "    ShipCity                ShippingCompany DeliveryDays DeliveryStatus  \n",
              "0    Hamburg  Kiwilytics Goods Shipping LLC      74 days      Delivered  \n",
              "1   Montreal                  UPS Worldwide     185 days      Delivered  \n",
              "2  Vancouver                FedEx Logistics     144 days      Delivered  "
            ],
            "text/html": [
              "\n",
              "  <div id=\"df-4ede0227-181a-4739-9171-b8437fb13053\" class=\"colab-df-container\">\n",
              "    <div>\n",
              "<style scoped>\n",
              "    .dataframe tbody tr th:only-of-type {\n",
              "        vertical-align: middle;\n",
              "    }\n",
              "\n",
              "    .dataframe tbody tr th {\n",
              "        vertical-align: top;\n",
              "    }\n",
              "\n",
              "    .dataframe thead th {\n",
              "        text-align: right;\n",
              "    }\n",
              "</style>\n",
              "<table border=\"1\" class=\"dataframe\">\n",
              "  <thead>\n",
              "    <tr style=\"text-align: right;\">\n",
              "      <th></th>\n",
              "      <th>OrderID</th>\n",
              "      <th>CustomerID</th>\n",
              "      <th>OrderDate</th>\n",
              "      <th>ShippedDate</th>\n",
              "      <th>ShippingCost</th>\n",
              "      <th>ShipCountry</th>\n",
              "      <th>ShipCity</th>\n",
              "      <th>ShippingCompany</th>\n",
              "      <th>DeliveryDays</th>\n",
              "      <th>DeliveryStatus</th>\n",
              "    </tr>\n",
              "  </thead>\n",
              "  <tbody>\n",
              "    <tr>\n",
              "      <th>0</th>\n",
              "      <td>1000.0</td>\n",
              "      <td>C001</td>\n",
              "      <td>2025-05-17</td>\n",
              "      <td>2025-07-30</td>\n",
              "      <td>NaN</td>\n",
              "      <td>Germany</td>\n",
              "      <td>Hamburg</td>\n",
              "      <td>Kiwilytics Goods Shipping LLC</td>\n",
              "      <td>74 days</td>\n",
              "      <td>Delivered</td>\n",
              "    </tr>\n",
              "    <tr>\n",
              "      <th>1</th>\n",
              "      <td>1001.0</td>\n",
              "      <td>C002</td>\n",
              "      <td>2025-01-26</td>\n",
              "      <td>2025-07-30</td>\n",
              "      <td>320.61</td>\n",
              "      <td>Canada</td>\n",
              "      <td>Montreal</td>\n",
              "      <td>UPS Worldwide</td>\n",
              "      <td>185 days</td>\n",
              "      <td>Delivered</td>\n",
              "    </tr>\n",
              "    <tr>\n",
              "      <th>2</th>\n",
              "      <td>1002.0</td>\n",
              "      <td>C003</td>\n",
              "      <td>2025-03-08</td>\n",
              "      <td>2025-07-30</td>\n",
              "      <td>165.17</td>\n",
              "      <td>Canada</td>\n",
              "      <td>Vancouver</td>\n",
              "      <td>FedEx Logistics</td>\n",
              "      <td>144 days</td>\n",
              "      <td>Delivered</td>\n",
              "    </tr>\n",
              "  </tbody>\n",
              "</table>\n",
              "</div>\n",
              "    <div class=\"colab-df-buttons\">\n",
              "\n",
              "  <div class=\"colab-df-container\">\n",
              "    <button class=\"colab-df-convert\" onclick=\"convertToInteractive('df-4ede0227-181a-4739-9171-b8437fb13053')\"\n",
              "            title=\"Convert this dataframe to an interactive table.\"\n",
              "            style=\"display:none;\">\n",
              "\n",
              "  <svg xmlns=\"http://www.w3.org/2000/svg\" height=\"24px\" viewBox=\"0 -960 960 960\">\n",
              "    <path d=\"M120-120v-720h720v720H120Zm60-500h600v-160H180v160Zm220 220h160v-160H400v160Zm0 220h160v-160H400v160ZM180-400h160v-160H180v160Zm440 0h160v-160H620v160ZM180-180h160v-160H180v160Zm440 0h160v-160H620v160Z\"/>\n",
              "  </svg>\n",
              "    </button>\n",
              "\n",
              "  <style>\n",
              "    .colab-df-container {\n",
              "      display:flex;\n",
              "      gap: 12px;\n",
              "    }\n",
              "\n",
              "    .colab-df-convert {\n",
              "      background-color: #E8F0FE;\n",
              "      border: none;\n",
              "      border-radius: 50%;\n",
              "      cursor: pointer;\n",
              "      display: none;\n",
              "      fill: #1967D2;\n",
              "      height: 32px;\n",
              "      padding: 0 0 0 0;\n",
              "      width: 32px;\n",
              "    }\n",
              "\n",
              "    .colab-df-convert:hover {\n",
              "      background-color: #E2EBFA;\n",
              "      box-shadow: 0px 1px 2px rgba(60, 64, 67, 0.3), 0px 1px 3px 1px rgba(60, 64, 67, 0.15);\n",
              "      fill: #174EA6;\n",
              "    }\n",
              "\n",
              "    .colab-df-buttons div {\n",
              "      margin-bottom: 4px;\n",
              "    }\n",
              "\n",
              "    [theme=dark] .colab-df-convert {\n",
              "      background-color: #3B4455;\n",
              "      fill: #D2E3FC;\n",
              "    }\n",
              "\n",
              "    [theme=dark] .colab-df-convert:hover {\n",
              "      background-color: #434B5C;\n",
              "      box-shadow: 0px 1px 3px 1px rgba(0, 0, 0, 0.15);\n",
              "      filter: drop-shadow(0px 1px 2px rgba(0, 0, 0, 0.3));\n",
              "      fill: #FFFFFF;\n",
              "    }\n",
              "  </style>\n",
              "\n",
              "    <script>\n",
              "      const buttonEl =\n",
              "        document.querySelector('#df-4ede0227-181a-4739-9171-b8437fb13053 button.colab-df-convert');\n",
              "      buttonEl.style.display =\n",
              "        google.colab.kernel.accessAllowed ? 'block' : 'none';\n",
              "\n",
              "      async function convertToInteractive(key) {\n",
              "        const element = document.querySelector('#df-4ede0227-181a-4739-9171-b8437fb13053');\n",
              "        const dataTable =\n",
              "          await google.colab.kernel.invokeFunction('convertToInteractive',\n",
              "                                                    [key], {});\n",
              "        if (!dataTable) return;\n",
              "\n",
              "        const docLinkHtml = 'Like what you see? Visit the ' +\n",
              "          '<a target=\"_blank\" href=https://colab.research.google.com/notebooks/data_table.ipynb>data table notebook</a>'\n",
              "          + ' to learn more about interactive tables.';\n",
              "        element.innerHTML = '';\n",
              "        dataTable['output_type'] = 'display_data';\n",
              "        await google.colab.output.renderOutput(dataTable, element);\n",
              "        const docLink = document.createElement('div');\n",
              "        docLink.innerHTML = docLinkHtml;\n",
              "        element.appendChild(docLink);\n",
              "      }\n",
              "    </script>\n",
              "  </div>\n",
              "\n",
              "\n",
              "    <div id=\"df-2481ed2c-d1c3-42da-bd4f-195fdcb8ae2e\">\n",
              "      <button class=\"colab-df-quickchart\" onclick=\"quickchart('df-2481ed2c-d1c3-42da-bd4f-195fdcb8ae2e')\"\n",
              "                title=\"Suggest charts\"\n",
              "                style=\"display:none;\">\n",
              "\n",
              "<svg xmlns=\"http://www.w3.org/2000/svg\" height=\"24px\"viewBox=\"0 0 24 24\"\n",
              "     width=\"24px\">\n",
              "    <g>\n",
              "        <path d=\"M19 3H5c-1.1 0-2 .9-2 2v14c0 1.1.9 2 2 2h14c1.1 0 2-.9 2-2V5c0-1.1-.9-2-2-2zM9 17H7v-7h2v7zm4 0h-2V7h2v10zm4 0h-2v-4h2v4z\"/>\n",
              "    </g>\n",
              "</svg>\n",
              "      </button>\n",
              "\n",
              "<style>\n",
              "  .colab-df-quickchart {\n",
              "      --bg-color: #E8F0FE;\n",
              "      --fill-color: #1967D2;\n",
              "      --hover-bg-color: #E2EBFA;\n",
              "      --hover-fill-color: #174EA6;\n",
              "      --disabled-fill-color: #AAA;\n",
              "      --disabled-bg-color: #DDD;\n",
              "  }\n",
              "\n",
              "  [theme=dark] .colab-df-quickchart {\n",
              "      --bg-color: #3B4455;\n",
              "      --fill-color: #D2E3FC;\n",
              "      --hover-bg-color: #434B5C;\n",
              "      --hover-fill-color: #FFFFFF;\n",
              "      --disabled-bg-color: #3B4455;\n",
              "      --disabled-fill-color: #666;\n",
              "  }\n",
              "\n",
              "  .colab-df-quickchart {\n",
              "    background-color: var(--bg-color);\n",
              "    border: none;\n",
              "    border-radius: 50%;\n",
              "    cursor: pointer;\n",
              "    display: none;\n",
              "    fill: var(--fill-color);\n",
              "    height: 32px;\n",
              "    padding: 0;\n",
              "    width: 32px;\n",
              "  }\n",
              "\n",
              "  .colab-df-quickchart:hover {\n",
              "    background-color: var(--hover-bg-color);\n",
              "    box-shadow: 0 1px 2px rgba(60, 64, 67, 0.3), 0 1px 3px 1px rgba(60, 64, 67, 0.15);\n",
              "    fill: var(--button-hover-fill-color);\n",
              "  }\n",
              "\n",
              "  .colab-df-quickchart-complete:disabled,\n",
              "  .colab-df-quickchart-complete:disabled:hover {\n",
              "    background-color: var(--disabled-bg-color);\n",
              "    fill: var(--disabled-fill-color);\n",
              "    box-shadow: none;\n",
              "  }\n",
              "\n",
              "  .colab-df-spinner {\n",
              "    border: 2px solid var(--fill-color);\n",
              "    border-color: transparent;\n",
              "    border-bottom-color: var(--fill-color);\n",
              "    animation:\n",
              "      spin 1s steps(1) infinite;\n",
              "  }\n",
              "\n",
              "  @keyframes spin {\n",
              "    0% {\n",
              "      border-color: transparent;\n",
              "      border-bottom-color: var(--fill-color);\n",
              "      border-left-color: var(--fill-color);\n",
              "    }\n",
              "    20% {\n",
              "      border-color: transparent;\n",
              "      border-left-color: var(--fill-color);\n",
              "      border-top-color: var(--fill-color);\n",
              "    }\n",
              "    30% {\n",
              "      border-color: transparent;\n",
              "      border-left-color: var(--fill-color);\n",
              "      border-top-color: var(--fill-color);\n",
              "      border-right-color: var(--fill-color);\n",
              "    }\n",
              "    40% {\n",
              "      border-color: transparent;\n",
              "      border-right-color: var(--fill-color);\n",
              "      border-top-color: var(--fill-color);\n",
              "    }\n",
              "    60% {\n",
              "      border-color: transparent;\n",
              "      border-right-color: var(--fill-color);\n",
              "    }\n",
              "    80% {\n",
              "      border-color: transparent;\n",
              "      border-right-color: var(--fill-color);\n",
              "      border-bottom-color: var(--fill-color);\n",
              "    }\n",
              "    90% {\n",
              "      border-color: transparent;\n",
              "      border-bottom-color: var(--fill-color);\n",
              "    }\n",
              "  }\n",
              "</style>\n",
              "\n",
              "      <script>\n",
              "        async function quickchart(key) {\n",
              "          const quickchartButtonEl =\n",
              "            document.querySelector('#' + key + ' button');\n",
              "          quickchartButtonEl.disabled = true;  // To prevent multiple clicks.\n",
              "          quickchartButtonEl.classList.add('colab-df-spinner');\n",
              "          try {\n",
              "            const charts = await google.colab.kernel.invokeFunction(\n",
              "                'suggestCharts', [key], {});\n",
              "          } catch (error) {\n",
              "            console.error('Error during call to suggestCharts:', error);\n",
              "          }\n",
              "          quickchartButtonEl.classList.remove('colab-df-spinner');\n",
              "          quickchartButtonEl.classList.add('colab-df-quickchart-complete');\n",
              "        }\n",
              "        (() => {\n",
              "          let quickchartButtonEl =\n",
              "            document.querySelector('#df-2481ed2c-d1c3-42da-bd4f-195fdcb8ae2e button');\n",
              "          quickchartButtonEl.style.display =\n",
              "            google.colab.kernel.accessAllowed ? 'block' : 'none';\n",
              "        })();\n",
              "      </script>\n",
              "    </div>\n",
              "\n",
              "    </div>\n",
              "  </div>\n"
            ],
            "application/vnd.google.colaboratory.intrinsic+json": {
              "type": "dataframe",
              "variable_name": "df",
              "summary": "{\n  \"name\": \"df\",\n  \"rows\": 242,\n  \"fields\": [\n    {\n      \"column\": \"OrderID\",\n      \"properties\": {\n        \"dtype\": \"number\",\n        \"std\": 71.11051558901127,\n        \"min\": 1000.0,\n        \"max\": 1244.0,\n        \"num_unique_values\": 236,\n        \"samples\": [\n          1070.0,\n          1196.0,\n          1186.0\n        ],\n        \"semantic_type\": \"\",\n        \"description\": \"\"\n      }\n    },\n    {\n      \"column\": \"CustomerID\",\n      \"properties\": {\n        \"dtype\": \"category\",\n        \"num_unique_values\": 31,\n        \"samples\": [\n          \"C028\",\n          \"Unknown\",\n          \"C024\"\n        ],\n        \"semantic_type\": \"\",\n        \"description\": \"\"\n      }\n    },\n    {\n      \"column\": \"OrderDate\",\n      \"properties\": {\n        \"dtype\": \"object\",\n        \"num_unique_values\": 168,\n        \"samples\": [\n          \"2024-11-09\",\n          \"2025-01-30\",\n          \"2024-11-03\"\n        ],\n        \"semantic_type\": \"\",\n        \"description\": \"\"\n      }\n    },\n    {\n      \"column\": \"ShippedDate\",\n      \"properties\": {\n        \"dtype\": \"object\",\n        \"num_unique_values\": 1,\n        \"samples\": [\n          \"2025-07-30\"\n        ],\n        \"semantic_type\": \"\",\n        \"description\": \"\"\n      }\n    },\n    {\n      \"column\": \"ShippingCost\",\n      \"properties\": {\n        \"dtype\": \"number\",\n        \"std\": 144.8273105837341,\n        \"min\": 10.33,\n        \"max\": 499.95,\n        \"num_unique_values\": 219,\n        \"samples\": [\n          10.53\n        ],\n        \"semantic_type\": \"\",\n        \"description\": \"\"\n      }\n    },\n    {\n      \"column\": \"ShipCountry\",\n      \"properties\": {\n        \"dtype\": \"category\",\n        \"num_unique_values\": 6,\n        \"samples\": [\n          \"Germany\"\n        ],\n        \"semantic_type\": \"\",\n        \"description\": \"\"\n      }\n    },\n    {\n      \"column\": \"ShipCity\",\n      \"properties\": {\n        \"dtype\": \"category\",\n        \"num_unique_values\": 19,\n        \"samples\": [\n          \"Hamburg\"\n        ],\n        \"semantic_type\": \"\",\n        \"description\": \"\"\n      }\n    },\n    {\n      \"column\": \"ShippingCompany\",\n      \"properties\": {\n        \"dtype\": \"category\",\n        \"num_unique_values\": 5,\n        \"samples\": [\n          \"UPS Worldwide\"\n        ],\n        \"semantic_type\": \"\",\n        \"description\": \"\"\n      }\n    },\n    {\n      \"column\": \"DeliveryDays\",\n      \"properties\": {\n        \"dtype\": \"string\",\n        \"num_unique_values\": 155,\n        \"samples\": [\n          \"95 days\"\n        ],\n        \"semantic_type\": \"\",\n        \"description\": \"\"\n      }\n    },\n    {\n      \"column\": \"DeliveryStatus\",\n      \"properties\": {\n        \"dtype\": \"category\",\n        \"num_unique_values\": 2,\n        \"samples\": [\n          \"Pending\"\n        ],\n        \"semantic_type\": \"\",\n        \"description\": \"\"\n      }\n    }\n  ]\n}"
            }
          },
          "metadata": {},
          "execution_count": 41
        }
      ]
    },
    {
      "cell_type": "code",
      "source": [
        "df['OrderDate'] = pd.to_datetime(df['OrderDate'])\n",
        "df['ShippedDate'] = pd.to_datetime(df['ShippedDate'])"
      ],
      "metadata": {
        "id": "vki0ByQOfqGx"
      },
      "execution_count": 42,
      "outputs": []
    },
    {
      "cell_type": "code",
      "source": [
        "import matplotlib.pyplot as plt\n"
      ],
      "metadata": {
        "id": "YV9pbpBTh9we"
      },
      "execution_count": 43,
      "outputs": []
    },
    {
      "cell_type": "code",
      "source": [
        "# Set the figure size for better readability\n",
        "plt.figure(figsize=(10,6))\n",
        "# Group data by country and calculate the average shipping cost per country\n",
        "# Then sort the results for a cleaner horizontal bar chart\n",
        "df.groupby(\"ShipCountry\")[\"ShippingCost\"].mean().sort_values().plot(kind=\"barh\",color=\"Skyblue\")\n",
        "# Set the title of the plot\n",
        "plt.title(\"Average Shipping Cost per Country\")\n",
        "# Set the label for the x-axis\n",
        "plt.xlabel(\"Average Shipping Cost\")\n",
        "# Set the label for the y-axis\n",
        "plt.ylabel(\"Country\")\n",
        "\n",
        "# Show grid lines to improve readability\n",
        "plt.grid(True)\n",
        "# Automatically adjust layout to prevent label cutoff\n",
        "plt.tight_layout()\n"
      ],
      "metadata": {
        "id": "qGrDApZphjhQ",
        "outputId": "55de768d-5490-4338-e307-bf4aa44e14c3",
        "colab": {
          "base_uri": "https://localhost:8080/",
          "height": 607
        }
      },
      "execution_count": 44,
      "outputs": [
        {
          "output_type": "display_data",
          "data": {
            "text/plain": [
              "<Figure size 1000x600 with 1 Axes>"
            ],
            "image/png": "[encoded data removed]"
          },
          "metadata": {}
        }
      ]
    },
    {
      "cell_type": "code",
      "source": [
        "print(df['DeliveryDays'].dtype)\n",
        "print(df['DeliveryDays'].head())\n",
        "# استخرج الأرقام من النصوص وحوّلها لأعداد صحيحة في نفس العمود\n",
        "df['DeliveryDays'] = df['DeliveryDays'].str.extract(r'(\\d+)')\n",
        "df['DeliveryDays'] = pd.to_numeric(df['DeliveryDays'], errors='coerce')\n",
        "\n",
        "# رسم الهستوجرام\n",
        "df['DeliveryDays'].dropna().plot(\n",
        "    kind=\"hist\",\n",
        "    bins=20,\n",
        "    color=\"skyblue\",\n",
        "    edgecolor=\"black\"\n",
        ")\n",
        "\n",
        "plt.title(\"Distribution of Delivery Days\")\n",
        "plt.xlabel(\"Delivery Days\")\n",
        "plt.ylabel(\"Frequency\")\n",
        "plt.grid(True)\n",
        "plt.tight_layout()\n",
        "plt.show()\n",
        "\n",
        "\n"
      ],
      "metadata": {
        "id": "yi-cl3pDls0w",
        "outputId": "cc22e565-c2c9-4506-9b11-168adc801f3c",
        "colab": {
          "base_uri": "https://localhost:8080/",
          "height": 609
        }
      },
      "execution_count": 45,
      "outputs": [
        {
          "output_type": "stream",
          "name": "stdout",
          "text": [
            "object\n",
            "0     74 days\n",
            "1    185 days\n",
            "2    144 days\n",
            "3    128 days\n",
            "4    106 days\n",
            "Name: DeliveryDays, dtype: object\n"
          ]
        },
        {
          "output_type": "display_data",
          "data": {
            "text/plain": [
              "<Figure size 640x480 with 1 Axes>"
            ],
            "image/png": "[encoded data removed]"
          },
          "metadata": {}
        }
      ]
    },
    {
      "cell_type": "code",
      "source": [
        "# Set the size of the figure\n",
        "plt.figure(figsize=(10, 6))\n",
        "\n",
        "# Plot a histogram of delivery days\n",
        "# Drop any missing values to avoid errors\n",
        "df[\"DeliveryDays\"].dropna().plot(kind=\"hist\", bins=20, color=\"skyblue\", edgecolor=\"black\")\n",
        "# Add a title to the chart\n",
        "plt.title(\"Distribution of Delivery Days\")\n",
        "# Add a label for the x-axis\n",
        "plt.xlabel(\"Delivery Days\")\n",
        "# Add a label for the y-axis\n",
        "plt.ylabel(\"Frequency\")\n",
        "\n",
        "# Add gridlines for easier visual estimation\n",
        "plt.grid(True)\n",
        "\n",
        "# Adjust layout to avoid overlap or cut-off\n",
        "plt.tight_layout()\n",
        "\n",
        "# Render the plot\n",
        "plt.show()"
      ],
      "metadata": {
        "id": "-2rx9f99kitB",
        "outputId": "b90a1098-069b-4db1-9f18-e1c5d0672575",
        "colab": {
          "base_uri": "https://localhost:8080/",
          "height": 607
        }
      },
      "execution_count": 46,
      "outputs": [
        {
          "output_type": "display_data",
          "data": {
            "text/plain": [
              "<Figure size 1000x600 with 1 Axes>"
            ],
            "image/png": "[encoded data removed]"
          },
          "metadata": {}
        }
      ]
    },
    {
      "cell_type": "code",
      "source": [
        "# Set the figure size (square shape is ideal for pie charts)\n",
        "plt.figure(figsize=(6,6))\n",
        "# Create a pie chart of the delivery status counts\n",
        "df[\"DeliveryStatus\"].value_counts().plot(kind=\"pie\", color = [\"#00A1D9\",\"#05F99B\", \"#D90045\"])\n",
        "# Set the title of the plot\n",
        "plt.title(\"Delivery Status Distribution\")\n",
        "# Hide the y-axis label (not needed for pie charts)\n",
        "plt.ylabel(\"\")\n",
        "# Adjust layout to make sure everything fits well\n",
        "plt.tight_layout()\n",
        "# Show the pie chart\n",
        "plt.show()"
      ],
      "metadata": {
        "id": "Z431tSlfzZOp",
        "outputId": "d74cc95e-fb76-4ed6-ca7f-2d5e0bd7d594",
        "colab": {
          "base_uri": "https://localhost:8080/",
          "height": 598
        }
      },
      "execution_count": 47,
      "outputs": [
        {
          "output_type": "display_data",
          "data": {
            "text/plain": [
              "<Figure size 600x600 with 1 Axes>"
            ],
            "image/png": "[encoded data removed]"
          },
          "metadata": {}
        }
      ]
    }
  ]
}